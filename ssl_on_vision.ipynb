{
  "cells": [
    {
      "cell_type": "markdown",
      "metadata": {
        "id": "view-in-github",
        "colab_type": "text"
      },
      "source": [
        "<a href=\"https://colab.research.google.com/github/jash0803/ai-for-social-good-acm-summer-school/blob/main/ssl_on_vision.ipynb\" target=\"_parent\"><img src=\"https://colab.research.google.com/assets/colab-badge.svg\" alt=\"Open In Colab\"/></a>"
      ]
    },
    {
      "cell_type": "markdown",
      "source": [
        "## Self-supervised learning"
      ],
      "metadata": {
        "id": "lGtolqWKADON"
      },
      "id": "lGtolqWKADON"
    },
    {
      "cell_type": "code",
      "source": [
        "from google.colab import drive\n",
        "drive.mount('/content/drive')"
      ],
      "metadata": {
        "colab": {
          "base_uri": "https://localhost:8080/"
        },
        "id": "Mo2j5PoT9JGE",
        "outputId": "1a20a67e-ac11-4494-d046-717a83b95ecc"
      },
      "id": "Mo2j5PoT9JGE",
      "execution_count": null,
      "outputs": [
        {
          "output_type": "stream",
          "name": "stdout",
          "text": [
            "Mounted at /content/drive\n"
          ]
        }
      ]
    },
    {
      "cell_type": "markdown",
      "source": [
        "Import necessary libraries"
      ],
      "metadata": {
        "id": "CDejIISzAKem"
      },
      "id": "CDejIISzAKem"
    },
    {
      "cell_type": "code",
      "execution_count": null,
      "id": "e6006a9f-1c3d-48a9-b429-5af9af6cd968",
      "metadata": {
        "editable": true,
        "tags": [],
        "id": "e6006a9f-1c3d-48a9-b429-5af9af6cd968"
      },
      "outputs": [],
      "source": [
        "import matplotlib.pyplot as plt\n",
        "import torchvision\n",
        "from torchvision.datasets import CIFAR10\n",
        "import torchvision.transforms as T\n",
        "import numpy as np\n",
        "from PIL import Image\n",
        "import torchvision.models as models\n",
        "import random\n",
        "from torch.utils.data import Dataset, DataLoader\n",
        "import torch.nn as nn\n",
        "from torchvision.models import resnet18\n",
        "from torchvision.models.resnet import ResNet, BasicBlock\n",
        "import tqdm\n",
        "import torch\n",
        "import torch.nn.functional as F\n",
        "import torchvision.transforms.functional as TF\n",
        "import torch.optim as optim\n",
        "from rich.console import Console\n",
        "from rich.table import Table\n",
        "from torchvision import datasets\n",
        "from torchvision.transforms import ToPILImage\n",
        "import warnings\n",
        "warnings.filterwarnings('ignore')\n"
      ]
    },
    {
      "cell_type": "markdown",
      "source": [
        "### Data collection"
      ],
      "metadata": {
        "id": "M0M1SBrHAR2c"
      },
      "id": "M0M1SBrHAR2c"
    },
    {
      "cell_type": "code",
      "execution_count": null,
      "id": "d44903bd-2902-4ef1-8d09-bcc8c9be3714",
      "metadata": {
        "editable": true,
        "tags": [],
        "id": "d44903bd-2902-4ef1-8d09-bcc8c9be3714",
        "colab": {
          "base_uri": "https://localhost:8080/"
        },
        "outputId": "b59cd677-eafd-4f14-b8c0-a442a048f4d5"
      },
      "outputs": [
        {
          "output_type": "stream",
          "name": "stderr",
          "text": [
            "100%|██████████| 170M/170M [00:04<00:00, 42.3MB/s]\n"
          ]
        }
      ],
      "source": [
        "cifar_10_dataset = CIFAR10(root='./data', train=True, download=True)"
      ]
    },
    {
      "cell_type": "code",
      "source": [],
      "metadata": {
        "id": "JlNofDAoJj6H"
      },
      "id": "JlNofDAoJj6H",
      "execution_count": null,
      "outputs": []
    },
    {
      "cell_type": "code",
      "execution_count": null,
      "id": "1fff7262-cae6-4c69-8e3c-ba594b232e13",
      "metadata": {
        "editable": true,
        "tags": [],
        "id": "1fff7262-cae6-4c69-8e3c-ba594b232e13",
        "outputId": "5fbc03f1-4c3e-4ab3-a1d0-96707dedeaf6",
        "colab": {
          "base_uri": "https://localhost:8080/",
          "height": 217
        }
      },
      "outputs": [
        {
          "output_type": "display_data",
          "data": {
            "text/plain": [
              "<Figure size 1000x200 with 5 Axes>"
            ],
            "image/png": "[encoded data removed]"
          },
          "metadata": {}
        }
      ],
      "source": [
        "class_names = cifar_10_dataset.classes\n",
        "plt.figure(figsize=(10, 2))\n",
        "for i in range(5):\n",
        "    image, label = cifar_10_dataset[i]\n",
        "    plt.subplot(1, 5, i+1)\n",
        "    plt.imshow(np.array(image))\n",
        "    plt.title(class_names[label])\n",
        "    plt.axis('off')\n",
        "plt.tight_layout()\n"
      ]
    },
    {
      "cell_type": "markdown",
      "source": [
        "### Pretext dataset"
      ],
      "metadata": {
        "id": "vmBCVxPgBARS"
      },
      "id": "vmBCVxPgBARS"
    },
    {
      "cell_type": "code",
      "execution_count": null,
      "id": "5b919b83-45e4-4365-804d-d108df7dd351",
      "metadata": {
        "editable": true,
        "tags": [],
        "id": "5b919b83-45e4-4365-804d-d108df7dd351"
      },
      "outputs": [],
      "source": [
        "class RotNetDataset(Dataset):\n",
        "    def __init__(self, dataset):\n",
        "        self.dataset = dataset\n",
        "        self.rotations = [0, 90, 180, 270]\n",
        "        self.transform = T.Compose([\n",
        "            T.ToTensor()\n",
        "        ])\n",
        "\n",
        "    def __len__(self):\n",
        "        return len(self.dataset)\n",
        "\n",
        "    def __getitem__(self, idx):\n",
        "        img, _ = self.dataset[idx]\n",
        "        rotation = random.choice(self.rotations)\n",
        "        rotated_img = T.functional.rotate(img, rotation)\n",
        "        label = self.rotations.index(rotation)\n",
        "        return self.transform(rotated_img), label"
      ]
    },
    {
      "cell_type": "code",
      "execution_count": null,
      "id": "3d6d858b-caa9-4d21-807b-799e3e8e6afa",
      "metadata": {
        "editable": true,
        "tags": [],
        "id": "3d6d858b-caa9-4d21-807b-799e3e8e6afa",
        "outputId": "2710cf43-61f8-4794-da6f-2c0c631a46de",
        "colab": {
          "base_uri": "https://localhost:8080/",
          "height": 407
        }
      },
      "outputs": [
        {
          "output_type": "display_data",
          "data": {
            "text/plain": [
              "<Figure size 1000x400 with 8 Axes>"
            ],
            "image/png": "[encoded data removed]"
          },
          "metadata": {}
        }
      ],
      "source": [
        "ssl_dataset = RotNetDataset(cifar_10_dataset)\n",
        "pretext_loader = DataLoader(ssl_dataset, batch_size=64, shuffle=True)\n",
        "plt.figure(figsize=(10, 4))\n",
        "for i in range(8):\n",
        "    image_tensor, label = ssl_dataset[i]\n",
        "    image = image_tensor.permute(1, 2, 0).numpy()  # Convert CHW → HWC for matplotlib\n",
        "\n",
        "    plt.subplot(2, 4, i + 1)\n",
        "    plt.imshow(image)\n",
        "    plt.title(f\"Rotation: {label * 90}°\")\n",
        "    plt.axis('off')\n",
        "\n",
        "plt.tight_layout()"
      ]
    },
    {
      "cell_type": "markdown",
      "source": [
        "### Pretext Model"
      ],
      "metadata": {
        "id": "WCUQE7v2BFpH"
      },
      "id": "WCUQE7v2BFpH"
    },
    {
      "cell_type": "code",
      "execution_count": null,
      "id": "97474d54-cbc1-45dc-8ffe-a29c9577741a",
      "metadata": {
        "editable": true,
        "tags": [],
        "id": "97474d54-cbc1-45dc-8ffe-a29c9577741a"
      },
      "outputs": [],
      "source": [
        "class ResNetRotationPredictor(nn.Module):\n",
        "    def __init__(self, num_classes=4):  # 4 classes: 0°, 90°, 180°, 270°\n",
        "        super().__init__()\n",
        "        self.encoder = resnet18(pretrained=True)\n",
        "\n",
        "        # Modify first conv to accept 3-channel CIFAR-10 images if needed\n",
        "        self.encoder.conv1 = nn.Conv2d(3, 64, kernel_size=3, stride=1, padding=1, bias=False)\n",
        "        self.encoder.maxpool = nn.Identity()  # Remove maxpool to retain CIFAR-10 resolution\n",
        "\n",
        "        # Replace classifier head\n",
        "        self.encoder.fc = nn.Linear(self.encoder.fc.in_features, num_classes)\n",
        "\n",
        "    def forward(self, x):\n",
        "        return self.encoder(x)"
      ]
    },
    {
      "cell_type": "code",
      "execution_count": null,
      "id": "6596bc60-624e-451e-b568-50be53643b47",
      "metadata": {
        "editable": true,
        "tags": [],
        "id": "6596bc60-624e-451e-b568-50be53643b47",
        "outputId": "49ee56c8-4257-4620-a7b6-20bcf7de64a8",
        "colab": {
          "base_uri": "https://localhost:8080/",
          "height": 84
        }
      },
      "outputs": [
        {
          "output_type": "display_data",
          "data": {
            "text/plain": [
              "\u001b[92m───────────────────────────────── \u001b[0m\u001b[1;32mRotation Prediction Training \u001b[0m\u001b[1;32m(\u001b[0m\u001b[1;32mSelf-Supervised\u001b[0m\u001b[1;32m)\u001b[0m\u001b[92m ──────────────────────────────────\u001b[0m\n"
            ],
            "text/html": [
              "<pre style=\"white-space:pre;overflow-x:auto;line-height:normal;font-family:Menlo,'DejaVu Sans Mono',consolas,'Courier New',monospace\"><span style=\"color: #00ff00; text-decoration-color: #00ff00\">───────────────────────────────── </span><span style=\"color: #008000; text-decoration-color: #008000; font-weight: bold\">Rotation Prediction Training (Self-Supervised)</span><span style=\"color: #00ff00; text-decoration-color: #00ff00\"> ──────────────────────────────────</span>\n",
              "</pre>\n"
            ]
          },
          "metadata": {}
        },
        {
          "output_type": "stream",
          "name": "stderr",
          "text": []
        },
        {
          "output_type": "display_data",
          "data": {
            "text/plain": [
              "\u001b[36mEpoch \u001b[0m\u001b[1;36m01\u001b[0m - \u001b[33mLoss:\u001b[0m \u001b[1;36m0.8953\u001b[0m  \u001b[32mAccuracy:\u001b[0m \u001b[1;36m63.05\u001b[0m%\n"
            ],
            "text/html": [
              "<pre style=\"white-space:pre;overflow-x:auto;line-height:normal;font-family:Menlo,'DejaVu Sans Mono',consolas,'Courier New',monospace\"><span style=\"color: #008080; text-decoration-color: #008080\">Epoch </span><span style=\"color: #008080; text-decoration-color: #008080; font-weight: bold\">01</span> - <span style=\"color: #808000; text-decoration-color: #808000\">Loss:</span> <span style=\"color: #008080; text-decoration-color: #008080; font-weight: bold\">0.8953</span>  <span style=\"color: #008000; text-decoration-color: #008000\">Accuracy:</span> <span style=\"color: #008080; text-decoration-color: #008080; font-weight: bold\">63.05</span>%\n",
              "</pre>\n"
            ]
          },
          "metadata": {}
        },
        {
          "output_type": "stream",
          "name": "stderr",
          "text": []
        },
        {
          "output_type": "display_data",
          "data": {
            "text/plain": [
              "\u001b[36mEpoch \u001b[0m\u001b[1;36m02\u001b[0m - \u001b[33mLoss:\u001b[0m \u001b[1;36m0.5431\u001b[0m  \u001b[32mAccuracy:\u001b[0m \u001b[1;36m78.88\u001b[0m%\n"
            ],
            "text/html": [
              "<pre style=\"white-space:pre;overflow-x:auto;line-height:normal;font-family:Menlo,'DejaVu Sans Mono',consolas,'Courier New',monospace\"><span style=\"color: #008080; text-decoration-color: #008080\">Epoch </span><span style=\"color: #008080; text-decoration-color: #008080; font-weight: bold\">02</span> - <span style=\"color: #808000; text-decoration-color: #808000\">Loss:</span> <span style=\"color: #008080; text-decoration-color: #008080; font-weight: bold\">0.5431</span>  <span style=\"color: #008000; text-decoration-color: #008000\">Accuracy:</span> <span style=\"color: #008080; text-decoration-color: #008080; font-weight: bold\">78.88</span>%\n",
              "</pre>\n"
            ]
          },
          "metadata": {}
        },
        {
          "output_type": "display_data",
          "data": {
            "text/plain": [
              "\u001b[92m─────────────────────────────────────────────── \u001b[0m\u001b[1;32mTraining complete!\u001b[0m\u001b[92m ────────────────────────────────────────────────\u001b[0m\n"
            ],
            "text/html": [
              "<pre style=\"white-space:pre;overflow-x:auto;line-height:normal;font-family:Menlo,'DejaVu Sans Mono',consolas,'Courier New',monospace\"><span style=\"color: #00ff00; text-decoration-color: #00ff00\">─────────────────────────────────────────────── </span><span style=\"color: #008000; text-decoration-color: #008000; font-weight: bold\">Training complete!</span><span style=\"color: #00ff00; text-decoration-color: #00ff00\"> ────────────────────────────────────────────────</span>\n",
              "</pre>\n"
            ]
          },
          "metadata": {}
        }
      ],
      "source": [
        "console = Console()\n",
        "\n",
        "# DataLoader\n",
        "train_loader = DataLoader(ssl_dataset, batch_size=1024, shuffle=True,num_workers=8)\n",
        "\n",
        "# Setup\n",
        "device='cuda' if torch.cuda.is_available() else 'cpu'\n",
        "model = ResNetRotationPredictor().to(device)\n",
        "criterion = nn.CrossEntropyLoss()\n",
        "optimizer = torch.optim.Adam(model.parameters(), lr=1e-3)\n",
        "\n",
        "# Training\n",
        "console.rule(\"[bold green]Rotation Prediction Training (Self-Supervised)\")\n",
        "epoch_cnt = 3\n",
        "\n",
        "for epoch in range(1, epoch_cnt):\n",
        "    model.train()\n",
        "    running_loss, correct, total = 0.0, 0, 0\n",
        "\n",
        "    loop = tqdm.tqdm(train_loader, desc=f\"Epoch {epoch:02d}\", leave=False)\n",
        "\n",
        "    for images, labels in loop:\n",
        "        images, labels = images.to(device), labels.to(device)\n",
        "\n",
        "        outputs = model(images)\n",
        "        loss = criterion(outputs, labels)\n",
        "\n",
        "        optimizer.zero_grad()\n",
        "        loss.backward()\n",
        "        optimizer.step()\n",
        "\n",
        "        running_loss += loss.item() * images.size(0)\n",
        "        _, predicted = outputs.max(1)\n",
        "        total += labels.size(0)\n",
        "        correct += predicted.eq(labels).sum().item()\n",
        "\n",
        "        loop.set_postfix(loss=loss.item(), acc=100. * correct / total)\n",
        "\n",
        "    epoch_loss = running_loss / total\n",
        "    epoch_acc = 100.0 * correct / total\n",
        "\n",
        "    console.print(f\"[cyan]Epoch {epoch:02d}[/cyan] - \"\n",
        "                  f\"[yellow]Loss:[/yellow] {epoch_loss:.4f}  \"\n",
        "                  f\"[green]Accuracy:[/green] {epoch_acc:.2f}%\")\n",
        "\n",
        "console.rule(\"[bold green]Training complete!\")\n"
      ]
    },
    {
      "cell_type": "markdown",
      "source": [
        "### Downstream Model"
      ],
      "metadata": {
        "id": "KS4ZP4NjBRew"
      },
      "id": "KS4ZP4NjBRew"
    },
    {
      "cell_type": "code",
      "execution_count": null,
      "id": "3d95710a-4913-4852-99f4-75fc443b1522",
      "metadata": {
        "editable": true,
        "tags": [],
        "id": "3d95710a-4913-4852-99f4-75fc443b1522"
      },
      "outputs": [],
      "source": [
        "class CIFAR10Classifier(nn.Module):\n",
        "    def __init__(self, pretrained_encoder, num_classes=10, freeze_encoder=True):\n",
        "        super().__init__()\n",
        "        self.encoder = pretrained_encoder\n",
        "\n",
        "        if freeze_encoder:\n",
        "            for param in self.encoder.parameters():\n",
        "                param.requires_grad = False\n",
        "\n",
        "        # Replace the classification head\n",
        "        self.encoder.fc = nn.Linear(self.encoder.fc.in_features, num_classes)\n",
        "\n",
        "    def forward(self, x):\n",
        "        return self.encoder(x)"
      ]
    },
    {
      "cell_type": "code",
      "execution_count": null,
      "id": "535f4f55-9898-457f-aefa-11227919ea80",
      "metadata": {
        "id": "535f4f55-9898-457f-aefa-11227919ea80",
        "colab": {
          "base_uri": "https://localhost:8080/"
        },
        "outputId": "04001d3e-ecab-4151-8fd4-65f666755400"
      },
      "outputs": [
        {
          "output_type": "stream",
          "name": "stdout",
          "text": [
            "Number of training samples: 50000\n",
            "Number of test samples: 10000\n"
          ]
        }
      ],
      "source": [
        "# Standard transforms for classification\n",
        "transform = T.Compose([\n",
        "    T.ToTensor(),\n",
        "])\n",
        "train_dataset = CIFAR10(root='./data', train=True, download=True, transform=transform)\n",
        "test_dataset  = CIFAR10(root='./data', train=False, download=True, transform=transform)\n",
        "print(f\"Number of training samples: {len(train_dataset)}\")\n",
        "print(f\"Number of test samples: {len(test_dataset)}\")\n",
        "\n",
        "train_loader = DataLoader(train_dataset, batch_size=1024, shuffle=True, num_workers=8)\n",
        "test_loader  = DataLoader(test_dataset, batch_size=1024, shuffle=False, num_workers=8)"
      ]
    },
    {
      "cell_type": "code",
      "source": [
        "# Use the encoder from your trained RotNet model\n",
        "pretrained_encoder = model.encoder\n",
        "clf_model = CIFAR10Classifier(pretrained_encoder, freeze_encoder=False).to(device)"
      ],
      "metadata": {
        "id": "NcI8Ek6WFwxl"
      },
      "id": "NcI8Ek6WFwxl",
      "execution_count": null,
      "outputs": []
    },
    {
      "cell_type": "markdown",
      "source": [
        "\n",
        "You’ve seen how `freeze_encoder=False` means the encoder *gets off the couch and hits the gym* 🏋️‍♂️ (i.e., it's trainable).  \n",
        "But if you write `freeze_encoder=True`, you're basically telling the encoder:  \n",
        "> \"Take a nap, buddy. You're off duty!\" 😴"
      ],
      "metadata": {
        "id": "zxMOodPUOsUc"
      },
      "id": "zxMOodPUOsUc"
    },
    {
      "cell_type": "code",
      "source": [
        "# Train the model\n",
        "console = Console()\n",
        "\n",
        "criterion = nn.CrossEntropyLoss()\n",
        "optimizer = optim.Adam(clf_model.parameters(), lr=1e-3)\n",
        "\n",
        "console.rule(\"[bold blue]Training Classifier on CIFAR-10\")\n",
        "\n",
        "for epoch in range(1, 11):\n",
        "    clf_model.train()\n",
        "    running_loss, correct, total = 0.0, 0, 0\n",
        "\n",
        "    loop = tqdm.tqdm(train_loader, desc=f\"[Epoch {epoch:02d}]\", leave=False, ncols=90)\n",
        "\n",
        "    for images, labels in loop:\n",
        "        images, labels = images.to(device), labels.to(device)\n",
        "\n",
        "        outputs = clf_model(images)\n",
        "        loss = criterion(outputs, labels)\n",
        "\n",
        "        optimizer.zero_grad()\n",
        "        loss.backward()\n",
        "        optimizer.step()\n",
        "\n",
        "        running_loss += loss.item() * images.size(0)\n",
        "        _, predicted = outputs.max(1)\n",
        "        total += labels.size(0)\n",
        "        correct += predicted.eq(labels).sum().item()\n",
        "\n",
        "        current_acc = 100. * correct / total\n",
        "        loop.set_postfix(loss=loss.item(), acc=current_acc)\n",
        "\n",
        "    epoch_loss = running_loss / total\n",
        "    epoch_acc = 100.0 * correct / total\n",
        "\n",
        "    console.print(f\"[cyan]Epoch {epoch:02d}[/cyan] \"\n",
        "                  f\"Loss: [yellow]{epoch_loss:.4f}[/yellow]  \"\n",
        "                  f\"Accuracy: [green]{epoch_acc:.2f}%[/green]\")\n",
        "\n",
        "console.rule(\"[bold green] Training Complete!\")\n"
      ],
      "metadata": {
        "colab": {
          "base_uri": "https://localhost:8080/",
          "height": 209
        },
        "id": "hrNVM1kSGfMI",
        "outputId": "98802821-adee-4e52-fd36-3d8b37b97d67"
      },
      "id": "hrNVM1kSGfMI",
      "execution_count": null,
      "outputs": [
        {
          "output_type": "display_data",
          "data": {
            "text/plain": [
              "\u001b[92m───────────────────────────────────────── \u001b[0m\u001b[1;34mTraining Classifier on CIFAR-\u001b[0m\u001b[1;34m10\u001b[0m\u001b[92m ─────────────────────────────────────────\u001b[0m\n"
            ],
            "text/html": [
              "<pre style=\"white-space:pre;overflow-x:auto;line-height:normal;font-family:Menlo,'DejaVu Sans Mono',consolas,'Courier New',monospace\"><span style=\"color: #00ff00; text-decoration-color: #00ff00\">───────────────────────────────────────── </span><span style=\"color: #000080; text-decoration-color: #000080; font-weight: bold\">Training Classifier on CIFAR-</span><span style=\"color: #000080; text-decoration-color: #000080; font-weight: bold\">10</span><span style=\"color: #00ff00; text-decoration-color: #00ff00\"> ─────────────────────────────────────────</span>\n",
              "</pre>\n"
            ]
          },
          "metadata": {}
        },
        {
          "output_type": "stream",
          "name": "stderr",
          "text": []
        },
        {
          "output_type": "display_data",
          "data": {
            "text/plain": [
              "\u001b[36mEpoch \u001b[0m\u001b[1;36m01\u001b[0m Loss: \u001b[1;33m1.5383\u001b[0m  Accuracy: \u001b[1;32m45.45\u001b[0m\u001b[32m%\u001b[0m\n"
            ],
            "text/html": [
              "<pre style=\"white-space:pre;overflow-x:auto;line-height:normal;font-family:Menlo,'DejaVu Sans Mono',consolas,'Courier New',monospace\"><span style=\"color: #008080; text-decoration-color: #008080\">Epoch </span><span style=\"color: #008080; text-decoration-color: #008080; font-weight: bold\">01</span> Loss: <span style=\"color: #808000; text-decoration-color: #808000; font-weight: bold\">1.5383</span>  Accuracy: <span style=\"color: #008000; text-decoration-color: #008000; font-weight: bold\">45.45</span><span style=\"color: #008000; text-decoration-color: #008000\">%</span>\n",
              "</pre>\n"
            ]
          },
          "metadata": {}
        },
        {
          "output_type": "stream",
          "name": "stderr",
          "text": []
        },
        {
          "output_type": "display_data",
          "data": {
            "text/plain": [
              "\u001b[36mEpoch \u001b[0m\u001b[1;36m02\u001b[0m Loss: \u001b[1;33m1.1064\u001b[0m  Accuracy: \u001b[1;32m61.61\u001b[0m\u001b[32m%\u001b[0m\n"
            ],
            "text/html": [
              "<pre style=\"white-space:pre;overflow-x:auto;line-height:normal;font-family:Menlo,'DejaVu Sans Mono',consolas,'Courier New',monospace\"><span style=\"color: #008080; text-decoration-color: #008080\">Epoch </span><span style=\"color: #008080; text-decoration-color: #008080; font-weight: bold\">02</span> Loss: <span style=\"color: #808000; text-decoration-color: #808000; font-weight: bold\">1.1064</span>  Accuracy: <span style=\"color: #008000; text-decoration-color: #008000; font-weight: bold\">61.61</span><span style=\"color: #008000; text-decoration-color: #008000\">%</span>\n",
              "</pre>\n"
            ]
          },
          "metadata": {}
        },
        {
          "output_type": "stream",
          "name": "stderr",
          "text": []
        },
        {
          "output_type": "display_data",
          "data": {
            "text/plain": [
              "\u001b[36mEpoch \u001b[0m\u001b[1;36m03\u001b[0m Loss: \u001b[1;33m1.0149\u001b[0m  Accuracy: \u001b[1;32m64.51\u001b[0m\u001b[32m%\u001b[0m\n"
            ],
            "text/html": [
              "<pre style=\"white-space:pre;overflow-x:auto;line-height:normal;font-family:Menlo,'DejaVu Sans Mono',consolas,'Courier New',monospace\"><span style=\"color: #008080; text-decoration-color: #008080\">Epoch </span><span style=\"color: #008080; text-decoration-color: #008080; font-weight: bold\">03</span> Loss: <span style=\"color: #808000; text-decoration-color: #808000; font-weight: bold\">1.0149</span>  Accuracy: <span style=\"color: #008000; text-decoration-color: #008000; font-weight: bold\">64.51</span><span style=\"color: #008000; text-decoration-color: #008000\">%</span>\n",
              "</pre>\n"
            ]
          },
          "metadata": {}
        },
        {
          "output_type": "stream",
          "name": "stderr",
          "text": []
        },
        {
          "output_type": "display_data",
          "data": {
            "text/plain": [
              "\u001b[36mEpoch \u001b[0m\u001b[1;36m04\u001b[0m Loss: \u001b[1;33m0.9630\u001b[0m  Accuracy: \u001b[1;32m66.35\u001b[0m\u001b[32m%\u001b[0m\n"
            ],
            "text/html": [
              "<pre style=\"white-space:pre;overflow-x:auto;line-height:normal;font-family:Menlo,'DejaVu Sans Mono',consolas,'Courier New',monospace\"><span style=\"color: #008080; text-decoration-color: #008080\">Epoch </span><span style=\"color: #008080; text-decoration-color: #008080; font-weight: bold\">04</span> Loss: <span style=\"color: #808000; text-decoration-color: #808000; font-weight: bold\">0.9630</span>  Accuracy: <span style=\"color: #008000; text-decoration-color: #008000; font-weight: bold\">66.35</span><span style=\"color: #008000; text-decoration-color: #008000\">%</span>\n",
              "</pre>\n"
            ]
          },
          "metadata": {}
        },
        {
          "output_type": "stream",
          "name": "stderr",
          "text": []
        },
        {
          "output_type": "display_data",
          "data": {
            "text/plain": [
              "\u001b[36mEpoch \u001b[0m\u001b[1;36m05\u001b[0m Loss: \u001b[1;33m0.9290\u001b[0m  Accuracy: \u001b[1;32m67.63\u001b[0m\u001b[32m%\u001b[0m\n"
            ],
            "text/html": [
              "<pre style=\"white-space:pre;overflow-x:auto;line-height:normal;font-family:Menlo,'DejaVu Sans Mono',consolas,'Courier New',monospace\"><span style=\"color: #008080; text-decoration-color: #008080\">Epoch </span><span style=\"color: #008080; text-decoration-color: #008080; font-weight: bold\">05</span> Loss: <span style=\"color: #808000; text-decoration-color: #808000; font-weight: bold\">0.9290</span>  Accuracy: <span style=\"color: #008000; text-decoration-color: #008000; font-weight: bold\">67.63</span><span style=\"color: #008000; text-decoration-color: #008000\">%</span>\n",
              "</pre>\n"
            ]
          },
          "metadata": {}
        },
        {
          "output_type": "stream",
          "name": "stderr",
          "text": []
        },
        {
          "output_type": "display_data",
          "data": {
            "text/plain": [
              "\u001b[36mEpoch \u001b[0m\u001b[1;36m06\u001b[0m Loss: \u001b[1;33m0.9031\u001b[0m  Accuracy: \u001b[1;32m68.45\u001b[0m\u001b[32m%\u001b[0m\n"
            ],
            "text/html": [
              "<pre style=\"white-space:pre;overflow-x:auto;line-height:normal;font-family:Menlo,'DejaVu Sans Mono',consolas,'Courier New',monospace\"><span style=\"color: #008080; text-decoration-color: #008080\">Epoch </span><span style=\"color: #008080; text-decoration-color: #008080; font-weight: bold\">06</span> Loss: <span style=\"color: #808000; text-decoration-color: #808000; font-weight: bold\">0.9031</span>  Accuracy: <span style=\"color: #008000; text-decoration-color: #008000; font-weight: bold\">68.45</span><span style=\"color: #008000; text-decoration-color: #008000\">%</span>\n",
              "</pre>\n"
            ]
          },
          "metadata": {}
        },
        {
          "output_type": "stream",
          "name": "stderr",
          "text": []
        },
        {
          "output_type": "display_data",
          "data": {
            "text/plain": [
              "\u001b[36mEpoch \u001b[0m\u001b[1;36m07\u001b[0m Loss: \u001b[1;33m0.8815\u001b[0m  Accuracy: \u001b[1;32m69.14\u001b[0m\u001b[32m%\u001b[0m\n"
            ],
            "text/html": [
              "<pre style=\"white-space:pre;overflow-x:auto;line-height:normal;font-family:Menlo,'DejaVu Sans Mono',consolas,'Courier New',monospace\"><span style=\"color: #008080; text-decoration-color: #008080\">Epoch </span><span style=\"color: #008080; text-decoration-color: #008080; font-weight: bold\">07</span> Loss: <span style=\"color: #808000; text-decoration-color: #808000; font-weight: bold\">0.8815</span>  Accuracy: <span style=\"color: #008000; text-decoration-color: #008000; font-weight: bold\">69.14</span><span style=\"color: #008000; text-decoration-color: #008000\">%</span>\n",
              "</pre>\n"
            ]
          },
          "metadata": {}
        },
        {
          "output_type": "stream",
          "name": "stderr",
          "text": []
        },
        {
          "output_type": "display_data",
          "data": {
            "text/plain": [
              "\u001b[36mEpoch \u001b[0m\u001b[1;36m08\u001b[0m Loss: \u001b[1;33m0.8681\u001b[0m  Accuracy: \u001b[1;32m69.57\u001b[0m\u001b[32m%\u001b[0m\n"
            ],
            "text/html": [
              "<pre style=\"white-space:pre;overflow-x:auto;line-height:normal;font-family:Menlo,'DejaVu Sans Mono',consolas,'Courier New',monospace\"><span style=\"color: #008080; text-decoration-color: #008080\">Epoch </span><span style=\"color: #008080; text-decoration-color: #008080; font-weight: bold\">08</span> Loss: <span style=\"color: #808000; text-decoration-color: #808000; font-weight: bold\">0.8681</span>  Accuracy: <span style=\"color: #008000; text-decoration-color: #008000; font-weight: bold\">69.57</span><span style=\"color: #008000; text-decoration-color: #008000\">%</span>\n",
              "</pre>\n"
            ]
          },
          "metadata": {}
        },
        {
          "output_type": "stream",
          "name": "stderr",
          "text": []
        },
        {
          "output_type": "display_data",
          "data": {
            "text/plain": [
              "\u001b[36mEpoch \u001b[0m\u001b[1;36m09\u001b[0m Loss: \u001b[1;33m0.8529\u001b[0m  Accuracy: \u001b[1;32m70.12\u001b[0m\u001b[32m%\u001b[0m\n"
            ],
            "text/html": [
              "<pre style=\"white-space:pre;overflow-x:auto;line-height:normal;font-family:Menlo,'DejaVu Sans Mono',consolas,'Courier New',monospace\"><span style=\"color: #008080; text-decoration-color: #008080\">Epoch </span><span style=\"color: #008080; text-decoration-color: #008080; font-weight: bold\">09</span> Loss: <span style=\"color: #808000; text-decoration-color: #808000; font-weight: bold\">0.8529</span>  Accuracy: <span style=\"color: #008000; text-decoration-color: #008000; font-weight: bold\">70.12</span><span style=\"color: #008000; text-decoration-color: #008000\">%</span>\n",
              "</pre>\n"
            ]
          },
          "metadata": {}
        },
        {
          "output_type": "stream",
          "name": "stderr",
          "text": []
        },
        {
          "output_type": "display_data",
          "data": {
            "text/plain": [
              "\u001b[36mEpoch \u001b[0m\u001b[1;36m10\u001b[0m Loss: \u001b[1;33m0.8410\u001b[0m  Accuracy: \u001b[1;32m70.49\u001b[0m\u001b[32m%\u001b[0m\n"
            ],
            "text/html": [
              "<pre style=\"white-space:pre;overflow-x:auto;line-height:normal;font-family:Menlo,'DejaVu Sans Mono',consolas,'Courier New',monospace\"><span style=\"color: #008080; text-decoration-color: #008080\">Epoch </span><span style=\"color: #008080; text-decoration-color: #008080; font-weight: bold\">10</span> Loss: <span style=\"color: #808000; text-decoration-color: #808000; font-weight: bold\">0.8410</span>  Accuracy: <span style=\"color: #008000; text-decoration-color: #008000; font-weight: bold\">70.49</span><span style=\"color: #008000; text-decoration-color: #008000\">%</span>\n",
              "</pre>\n"
            ]
          },
          "metadata": {}
        },
        {
          "output_type": "display_data",
          "data": {
            "text/plain": [
              "\u001b[92m─────────────────────────────────────────────── \u001b[0m\u001b[1;32m Training Complete!\u001b[0m\u001b[92m ───────────────────────────────────────────────\u001b[0m\n"
            ],
            "text/html": [
              "<pre style=\"white-space:pre;overflow-x:auto;line-height:normal;font-family:Menlo,'DejaVu Sans Mono',consolas,'Courier New',monospace\"><span style=\"color: #00ff00; text-decoration-color: #00ff00\">─────────────────────────────────────────────── </span><span style=\"color: #008000; text-decoration-color: #008000; font-weight: bold\"> Training Complete!</span><span style=\"color: #00ff00; text-decoration-color: #00ff00\"> ───────────────────────────────────────────────</span>\n",
              "</pre>\n"
            ]
          },
          "metadata": {}
        }
      ]
    },
    {
      "cell_type": "code",
      "source": [
        "#Model Evaluation\n",
        "clf_model.eval()\n",
        "correct = 0\n",
        "total = 0\n",
        "\n",
        "with torch.no_grad():\n",
        "    for images, labels in test_loader:\n",
        "        images, labels = images.to(device), labels.to(device)\n",
        "        outputs = clf_model(images)\n",
        "        _, predicted = outputs.max(1)\n",
        "        total += labels.size(0)\n",
        "        correct += predicted.eq(labels).sum().item()\n",
        "\n",
        "test_acc = 100.0 * correct / total\n",
        "print(f\"✅ Test Accuracy: {test_acc:.2f}%\")"
      ],
      "metadata": {
        "colab": {
          "base_uri": "https://localhost:8080/"
        },
        "id": "xSxdWrYrGz01",
        "outputId": "b640daff-e2bc-4643-c085-866cbfde176c"
      },
      "id": "xSxdWrYrGz01",
      "execution_count": null,
      "outputs": [
        {
          "output_type": "stream",
          "name": "stdout",
          "text": [
            "✅ Test Accuracy: 69.85%\n"
          ]
        }
      ]
    },
    {
      "cell_type": "markdown",
      "source": [
        "### Now Your Turn 😎\n",
        "\n"
      ],
      "metadata": {
        "id": "KLHXLgKfO6YX"
      },
      "id": "KLHXLgKfO6YX"
    },
    {
      "cell_type": "markdown",
      "source": [
        "# Jigsaw puzzle pretext task\n"
      ],
      "metadata": {
        "id": "e-5Y6AGUPHTR"
      },
      "id": "e-5Y6AGUPHTR"
    },
    {
      "cell_type": "markdown",
      "source": [
        "## Generate the pretext dataset"
      ],
      "metadata": {
        "id": "coGL63BiQmd4"
      },
      "id": "coGL63BiQmd4"
    },
    {
      "cell_type": "code",
      "source": [
        "# Write code to generate data of jigsaw puzzle pretraining task"
      ],
      "metadata": {
        "id": "hjQ5N8Dk4e9d"
      },
      "id": "hjQ5N8Dk4e9d",
      "execution_count": null,
      "outputs": []
    },
    {
      "cell_type": "code",
      "source": [
        "#Visualization\n",
        "transform = T.Compose([\n",
        "    T.Resize((96, 96)),\n",
        "    T.ToTensor()\n",
        "])\n",
        "jigsaw_dataset = JigsawDataset(cifar_10_dataset, transform=transform)\n",
        "tiles_tensor, perm_index = jigsaw_dataset[1]\n",
        "print(f\"Permutation Index: {perm_index}\")\n",
        "fig, axs = plt.subplots(3, 3, figsize=(4, 4))\n",
        "for idx, ax in enumerate(axs.flat):\n",
        "    tile = tiles_tensor[idx].permute(1, 2, 0).numpy()\n",
        "    ax.imshow(tile)\n",
        "    ax.axis('off')\n",
        "plt.suptitle(f\"Jigsaw Puzzle with Permutation Index {perm_index}\")\n",
        "plt.tight_layout()\n",
        "plt.show()"
      ],
      "metadata": {
        "colab": {
          "base_uri": "https://localhost:8080/",
          "height": 430
        },
        "id": "7vGrnrYGPEsT",
        "outputId": "e59c2dae-bb26-46d6-fcc0-c9a169e12964"
      },
      "id": "7vGrnrYGPEsT",
      "execution_count": null,
      "outputs": [
        {
          "output_type": "stream",
          "name": "stdout",
          "text": [
            "Permutation Index: 4\n"
          ]
        },
        {
          "output_type": "display_data",
          "data": {
            "text/plain": [
              "<Figure size 400x400 with 9 Axes>"
            ],
            "image/png": "[encoded data removed]"
          },
          "metadata": {}
        }
      ]
    },
    {
      "cell_type": "markdown",
      "source": [
        "### Define the Pretext Model"
      ],
      "metadata": {
        "id": "cJ6OQNl9RFm7"
      },
      "id": "cJ6OQNl9RFm7"
    },
    {
      "cell_type": "code",
      "source": [
        "class JigsawNet(nn.Module):\n",
        "    def __init__(self, num_permutations=9):\n",
        "        super().__init__()\n",
        "        self.tile_cnn = resnet18(pretrained=False)\n",
        "        self.tile_cnn.conv1 = nn.Conv2d(3, 64, kernel_size=3, stride=1, padding=1, bias=False)\n",
        "        self.tile_cnn.maxpool = nn.Identity()\n",
        "        self.tile_cnn.fc = nn.Identity()  # feature extractor\n",
        "\n",
        "        self.classifier = nn.Sequential(\n",
        "            nn.Linear(512 * 9, 1024),\n",
        "            nn.ReLU(),\n",
        "            nn.Linear(1024, num_permutations)\n",
        "        )\n",
        "\n",
        "    def forward(self, x):  # x shape: [B, 9, C, H, W]\n",
        "        B = x.size(0)\n",
        "        tiles = x.view(B * 9, 3, x.size(3), x.size(4))\n",
        "        features = self.tile_cnn(tiles)  # shape: [B*9, 512]\n",
        "        features = features.view(B, -1)  # shape: [B, 512*9]\n",
        "        out = self.classifier(features)\n",
        "        return out\n"
      ],
      "metadata": {
        "id": "tj2R6ZGSPfyR"
      },
      "id": "tj2R6ZGSPfyR",
      "execution_count": null,
      "outputs": []
    },
    {
      "cell_type": "markdown",
      "source": [
        "### Now Your Turn: Jigsaw Puzzle Challenge\n",
        "\n",
        "For this homework task, your goal is to train a model on a jigsaw puzzle pretext task. The twist? Your dataset should be transformed so that each image is resized to 96x96. This will ensure consistency and compatibility during training.\n",
        "\n",
        "A few tips before you begin:\n",
        "\n",
        "- Set `freeze_encoder=False` if you want the encoder to learn from scratch and update its weights.\n",
        "- Set `freeze_encoder=True` if you want to keep the encoder frozen (no learning from this task).\n",
        "\n",
        "Remember, the goal is to shuffle and reassemble patches like a jigsaw puzzle. Think of it as a brain teaser — except your model is doing the thinking.\n",
        "\n",
        "\n"
      ],
      "metadata": {
        "id": "093o92x5T4NW"
      },
      "id": "093o92x5T4NW"
    },
    {
      "cell_type": "code",
      "source": [
        "#Downstream Classifier\n",
        "\n",
        "class CIFAR10Classifier(nn.Module):\n",
        "    def __init__(self, pretrained_encoder, num_classes=10, freeze_encoder=True):\n",
        "        super().__init__()\n",
        "        self.encoder = pretrained_encoder\n",
        "\n",
        "        # Get in_features before replacing the layer\n",
        "        in_features = getattr(self.encoder.fc, 'in_features', 512)  # default fallback\n",
        "\n",
        "        if freeze_encoder:\n",
        "            for param in self.encoder.parameters():\n",
        "                param.requires_grad = False\n",
        "\n",
        "        # Replace the classification head\n",
        "        self.encoder.fc = nn.Linear(in_features, num_classes)\n",
        "\n",
        "    def forward(self, x):\n",
        "        return self.encoder(x)"
      ],
      "metadata": {
        "id": "4X7RxBTKT3pJ"
      },
      "id": "4X7RxBTKT3pJ",
      "execution_count": null,
      "outputs": []
    },
    {
      "cell_type": "code",
      "source": [
        "#Train loop - Task\n",
        "#Evaluate Loop -Task"
      ],
      "metadata": {
        "id": "boP41QxwT1BC"
      },
      "id": "boP41QxwT1BC",
      "execution_count": null,
      "outputs": []
    },
    {
      "cell_type": "markdown",
      "source": [
        "# Contrastive Method: SimClR"
      ],
      "metadata": {
        "id": "a7X1y4GpUede"
      },
      "id": "a7X1y4GpUede"
    },
    {
      "cell_type": "code",
      "source": [
        "# Generate Pretext Dataset\n",
        "class SimCLRTransform:\n",
        "    def __init__(self, image_size=32):\n",
        "        self.transform = T.Compose([\n",
        "            T.RandomResizedCrop(size=image_size),\n",
        "            T.RandomHorizontalFlip(),\n",
        "            T.RandomApply([T.ColorJitter(0.8, 0.8, 0.8, 0.2)], p=0.8),\n",
        "            T.RandomGrayscale(p=0.2),\n",
        "            T.GaussianBlur(kernel_size=3),\n",
        "            T.ToTensor(),\n",
        "        ])\n",
        "\n",
        "    def __call__(self, x):\n",
        "        return self.transform(x), self.transform(x)\n"
      ],
      "metadata": {
        "id": "ncrWxNNVUU24"
      },
      "id": "ncrWxNNVUU24",
      "execution_count": null,
      "outputs": []
    },
    {
      "cell_type": "code",
      "source": [
        "# Define the SimCLR data augmentations\n",
        "class SimCLRTransform:\n",
        "    def __init__(self, image_size=32):\n",
        "        self.transform = T.Compose([\n",
        "            T.RandomResizedCrop(size=image_size, scale=(0.5, 1.0)),\n",
        "            T.RandomHorizontalFlip(),\n",
        "            T.RandomApply([T.ColorJitter(0.8, 0.8, 0.8, 0.2)], p=0.8),\n",
        "            T.RandomGrayscale(p=0.2),\n",
        "            T.GaussianBlur(kernel_size=3),\n",
        "            T.ToTensor()\n",
        "        ])\n",
        "\n",
        "    def __call__(self, x):\n",
        "        return self.transform(x), self.transform(x)\n",
        "\n",
        "# Load CIFAR10 and apply the SimCLRTransform\n",
        "simclr_transform = SimCLRTransform()\n",
        "dataset = datasets.CIFAR10(root='./data', train=True, transform=simclr_transform, download=True)\n",
        "\n",
        "# Get one sample image and apply two augmentations\n",
        "(img1, img2), _ = dataset[0]\n",
        "\n",
        "# Convert tensors to PIL for plotting\n",
        "to_pil = ToPILImage()\n",
        "img1_pil = to_pil(img1)\n",
        "img2_pil = to_pil(img2)\n",
        "\n",
        "# Plot the original image and its two augmented views\n",
        "fig, axs = plt.subplots(1, 2, figsize=(6, 3))\n",
        "axs[0].imshow(img1_pil)\n",
        "axs[0].set_title('View 1 (Augmented)')\n",
        "axs[0].axis('off')\n",
        "\n",
        "axs[1].imshow(img2_pil)\n",
        "axs[1].set_title('View 2 (Augmented)')\n",
        "axs[1].axis('off')\n",
        "\n",
        "plt.suptitle(\"SimCLR Data Augmentation Visualization\")\n",
        "plt.tight_layout()\n",
        "plt.show()\n"
      ],
      "metadata": {
        "colab": {
          "base_uri": "https://localhost:8080/",
          "height": 316
        },
        "id": "O0qieL-fU5ka",
        "outputId": "cedf8e7d-fe98-45b1-e849-2d3d4922753b"
      },
      "id": "O0qieL-fU5ka",
      "execution_count": null,
      "outputs": [
        {
          "output_type": "display_data",
          "data": {
            "text/plain": [
              "<Figure size 600x300 with 2 Axes>"
            ],
            "image/png": "[encoded data removed]"
          },
          "metadata": {}
        }
      ]
    },
    {
      "cell_type": "code",
      "source": [
        "# Pretext Model\n",
        "import torchvision.models as models\n",
        "class SimCLR(nn.Module):\n",
        "    def __init__(self, base_model='resnet18', out_dim=128):\n",
        "        super().__init__()\n",
        "        self.encoder = models.__dict__[base_model](pretrained=False)\n",
        "        self.encoder.fc = nn.Identity()  # Remove classification head\n",
        "\n",
        "        # Projection Head\n",
        "        self.projection = nn.Sequential(\n",
        "            nn.Linear(512, 512),\n",
        "            nn.ReLU(),\n",
        "            nn.Linear(512, out_dim)\n",
        "        )\n",
        "\n",
        "    def forward(self, x):\n",
        "        h = self.encoder(x)\n",
        "        z = self.projection(h)\n",
        "        return z"
      ],
      "metadata": {
        "id": "r1qHLmNyU-r6"
      },
      "id": "r1qHLmNyU-r6",
      "execution_count": null,
      "outputs": []
    },
    {
      "cell_type": "code",
      "source": [
        "#Loss Function define\n",
        "def nt_xent_loss(z_i, z_j, temperature=0.5):\n",
        "    batch_size = z_i.size(0)\n",
        "    z = torch.cat([z_i, z_j], dim=0)  # [2N, D]\n",
        "    z = F.normalize(z, dim=1)\n",
        "\n",
        "    similarity_matrix = torch.matmul(z, z.T)  # [2N, 2N]\n",
        "    labels = torch.arange(batch_size).repeat(2).to(z.device)\n",
        "    labels = (labels.unsqueeze(0) == labels.unsqueeze(1)).float()\n",
        "\n",
        "    mask = torch.eye(labels.shape[0], dtype=torch.bool).to(z.device)\n",
        "    labels = labels[~mask].view(labels.shape[0], -1)\n",
        "    similarity_matrix = similarity_matrix[~mask].view(similarity_matrix.shape[0], -1)\n",
        "\n",
        "    positives = similarity_matrix[labels.bool()].view(labels.shape[0], -1)\n",
        "    negatives = similarity_matrix[~labels.bool()].view(similarity_matrix.shape[0], -1)\n",
        "\n",
        "    logits = torch.cat([positives, negatives], dim=1)\n",
        "    labels = torch.zeros(logits.shape[0], dtype=torch.long).to(z.device)\n",
        "\n",
        "    return F.cross_entropy(logits / temperature, labels)\n"
      ],
      "metadata": {
        "id": "T-bejKHAVQa5"
      },
      "id": "T-bejKHAVQa5",
      "execution_count": null,
      "outputs": []
    },
    {
      "cell_type": "code",
      "source": [
        "#train the SimCLR model\n",
        "transform = SimCLRTransform()\n",
        "dataset = CIFAR10(root='./data', train=True, transform=transform, download=True)\n",
        "loader = DataLoader(dataset, batch_size=1024, shuffle=True, num_workers=4, drop_last=True)\n",
        "device = torch.device(\"cuda\" if torch.cuda.is_available() else \"cpu\")\n",
        "model = SimCLR().to(device)\n",
        "optimizer = torch.optim.Adam(model.parameters(), lr=1e-3)\n",
        "from tqdm import tqdm\n",
        "from rich.console import Console\n",
        "console = Console()\n",
        "console.rule(\"[bold cyan]Training SimCLR Model\")\n",
        "epoch_cnt = 3\n",
        "for epoch in range(1, epoch_cnt):\n",
        "    model.train()\n",
        "    running_loss = 0.0\n",
        "    loop = tqdm(loader, desc=f\"[Epoch {epoch:02d}]\", leave=False, ncols=90)\n",
        "\n",
        "    for (img1, img2), _ in loop:\n",
        "        img1, img2 = img1.to(device), img2.to(device)\n",
        "\n",
        "        optimizer.zero_grad()\n",
        "        z_i = model(img1)\n",
        "        z_j = model(img2)\n",
        "\n",
        "        loss = nt_xent_loss(z_i, z_j)\n",
        "        loss.backward()\n",
        "        optimizer.step()\n",
        "\n",
        "        running_loss += loss.item() * img1.size(0)\n",
        "        loop.set_postfix(loss=loss.item())\n",
        "\n",
        "    epoch_loss = running_loss / len(loader.dataset)\n",
        "    console.print(f\"[cyan]Epoch {epoch:02d}[/cyan] - Loss: [yellow]{epoch_loss:.4f}[/yellow]\")"
      ],
      "metadata": {
        "colab": {
          "base_uri": "https://localhost:8080/",
          "height": 67
        },
        "id": "Zfb5yOOQVp61",
        "outputId": "3c685d3d-e10c-4c5a-a077-e17abf550c32"
      },
      "id": "Zfb5yOOQVp61",
      "execution_count": null,
      "outputs": [
        {
          "output_type": "display_data",
          "data": {
            "text/plain": [
              "\u001b[92m────────────────────────────────────────────── \u001b[0m\u001b[1;36mTraining SimCLR Model\u001b[0m\u001b[92m ──────────────────────────────────────────────\u001b[0m\n"
            ],
            "text/html": [
              "<pre style=\"white-space:pre;overflow-x:auto;line-height:normal;font-family:Menlo,'DejaVu Sans Mono',consolas,'Courier New',monospace\"><span style=\"color: #00ff00; text-decoration-color: #00ff00\">────────────────────────────────────────────── </span><span style=\"color: #008080; text-decoration-color: #008080; font-weight: bold\">Training SimCLR Model</span><span style=\"color: #00ff00; text-decoration-color: #00ff00\"> ──────────────────────────────────────────────</span>\n",
              "</pre>\n"
            ]
          },
          "metadata": {}
        },
        {
          "output_type": "stream",
          "name": "stderr",
          "text": []
        },
        {
          "output_type": "display_data",
          "data": {
            "text/plain": [
              "\u001b[36mEpoch \u001b[0m\u001b[1;36m01\u001b[0m - Loss: \u001b[1;33m6.7465\u001b[0m\n"
            ],
            "text/html": [
              "<pre style=\"white-space:pre;overflow-x:auto;line-height:normal;font-family:Menlo,'DejaVu Sans Mono',consolas,'Courier New',monospace\"><span style=\"color: #008080; text-decoration-color: #008080\">Epoch </span><span style=\"color: #008080; text-decoration-color: #008080; font-weight: bold\">01</span> - Loss: <span style=\"color: #808000; text-decoration-color: #808000; font-weight: bold\">6.7465</span>\n",
              "</pre>\n"
            ]
          },
          "metadata": {}
        },
        {
          "output_type": "stream",
          "name": "stderr",
          "text": []
        },
        {
          "output_type": "display_data",
          "data": {
            "text/plain": [
              "\u001b[36mEpoch \u001b[0m\u001b[1;36m02\u001b[0m - Loss: \u001b[1;33m6.4358\u001b[0m\n"
            ],
            "text/html": [
              "<pre style=\"white-space:pre;overflow-x:auto;line-height:normal;font-family:Menlo,'DejaVu Sans Mono',consolas,'Courier New',monospace\"><span style=\"color: #008080; text-decoration-color: #008080\">Epoch </span><span style=\"color: #008080; text-decoration-color: #008080; font-weight: bold\">02</span> - Loss: <span style=\"color: #808000; text-decoration-color: #808000; font-weight: bold\">6.4358</span>\n",
              "</pre>\n"
            ]
          },
          "metadata": {}
        }
      ]
    },
    {
      "cell_type": "code",
      "source": [
        "class CIFAR10Classifier(nn.Module):\n",
        "    def __init__(self, pretrained_encoder, num_classes=10, freeze_encoder=True):\n",
        "        super().__init__()\n",
        "        self.encoder = pretrained_encoder\n",
        "        in_features = getattr(self.encoder.fc, 'in_features', 512)\n",
        "        if freeze_encoder:\n",
        "            for param in self.encoder.parameters():\n",
        "                param.requires_grad = False\n",
        "        self.encoder.fc = nn.Linear(in_features, num_classes)\n",
        "    def forward(self, x):\n",
        "        return self.encoder(x)\n"
      ],
      "metadata": {
        "id": "trPpK2RJV1CG"
      },
      "id": "trPpK2RJV1CG",
      "execution_count": null,
      "outputs": []
    },
    {
      "cell_type": "code",
      "source": [
        "# Use the encoder from your trained SimCLR model\n",
        "pretrained_encoder = model.encoder\n",
        "# Create classifier using this encoder\n",
        "clf_model = CIFAR10Classifier(pretrained_encoder, freeze_encoder=False).to(device)\n",
        "criterion = nn.CrossEntropyLoss()\n",
        "optimizer = optim.Adam(clf_model.parameters(), lr=1e-3)\n",
        "console.rule(\"[bold blue]Training Classifier with SimCLR Pretrained Encoder\")\n",
        "epoch_cnt = 3\n",
        "for epoch in range(1, epoch_cnt):\n",
        "    clf_model.train()\n",
        "    running_loss, correct, total = 0.0, 0, 0\n",
        "\n",
        "    #loop = tqdm.tqdm(train_loader, desc=f\"[Epoch {epoch:02d}]\", leave=False, ncols=90)\n",
        "\n",
        "    for batch in tqdm(train_loader):\n",
        "        images, labels = batch[0].to(device), batch[1].to(device)\n",
        "\n",
        "        outputs = clf_model(images)\n",
        "        loss = criterion(outputs, labels)\n",
        "\n",
        "        optimizer.zero_grad()\n",
        "        loss.backward()\n",
        "        optimizer.step()\n",
        "\n",
        "        running_loss += loss.item() * images.size(0)\n",
        "        _, predicted = outputs.max(1)\n",
        "        total += labels.size(0)\n",
        "        correct += predicted.eq(labels).sum().item()\n",
        "\n",
        "        loop.set_postfix(loss=loss.item(), acc=100. * correct / total)\n",
        "\n",
        "    epoch_loss = running_loss / total\n",
        "    epoch_acc = 100. * correct / total\n",
        "\n",
        "    console.print(f\"[blue]Epoch {epoch:02d}[/blue] - \"\n",
        "                  f\"[yellow]Loss:[/yellow] {epoch_loss:.4f}  \"\n",
        "                  f\"[green]Accuracy:[/green] {epoch_acc:.2f}%\")\n",
        "console.rule(\"[bold green]✅ Training Complete (SimCLR Pretrained Encoder)\")\n"
      ],
      "metadata": {
        "colab": {
          "base_uri": "https://localhost:8080/",
          "height": 121
        },
        "id": "DgdOs4ndXTHg",
        "outputId": "7b16c3ee-a082-4ca1-b685-5100b092650a"
      },
      "id": "DgdOs4ndXTHg",
      "execution_count": null,
      "outputs": [
        {
          "output_type": "display_data",
          "data": {
            "text/plain": [
              "\u001b[92m─────────────────────────────── \u001b[0m\u001b[1;34mTraining Classifier with SimCLR Pretrained Encoder\u001b[0m\u001b[92m ────────────────────────────────\u001b[0m\n"
            ],
            "text/html": [
              "<pre style=\"white-space:pre;overflow-x:auto;line-height:normal;font-family:Menlo,'DejaVu Sans Mono',consolas,'Courier New',monospace\"><span style=\"color: #00ff00; text-decoration-color: #00ff00\">─────────────────────────────── </span><span style=\"color: #000080; text-decoration-color: #000080; font-weight: bold\">Training Classifier with SimCLR Pretrained Encoder</span><span style=\"color: #00ff00; text-decoration-color: #00ff00\"> ────────────────────────────────</span>\n",
              "</pre>\n"
            ]
          },
          "metadata": {}
        },
        {
          "output_type": "stream",
          "name": "stderr",
          "text": [
            "100%|██████████| 49/49 [00:18<00:00,  2.72it/s]\n"
          ]
        },
        {
          "output_type": "display_data",
          "data": {
            "text/plain": [
              "\u001b[34mEpoch \u001b[0m\u001b[1;34m01\u001b[0m - \u001b[33mLoss:\u001b[0m \u001b[1;36m1.5379\u001b[0m  \u001b[32mAccuracy:\u001b[0m \u001b[1;36m43.99\u001b[0m%\n"
            ],
            "text/html": [
              "<pre style=\"white-space:pre;overflow-x:auto;line-height:normal;font-family:Menlo,'DejaVu Sans Mono',consolas,'Courier New',monospace\"><span style=\"color: #000080; text-decoration-color: #000080\">Epoch </span><span style=\"color: #000080; text-decoration-color: #000080; font-weight: bold\">01</span> - <span style=\"color: #808000; text-decoration-color: #808000\">Loss:</span> <span style=\"color: #008080; text-decoration-color: #008080; font-weight: bold\">1.5379</span>  <span style=\"color: #008000; text-decoration-color: #008000\">Accuracy:</span> <span style=\"color: #008080; text-decoration-color: #008080; font-weight: bold\">43.99</span>%\n",
              "</pre>\n"
            ]
          },
          "metadata": {}
        },
        {
          "output_type": "stream",
          "name": "stderr",
          "text": [
            "100%|██████████| 49/49 [00:18<00:00,  2.66it/s]\n"
          ]
        },
        {
          "output_type": "display_data",
          "data": {
            "text/plain": [
              "\u001b[34mEpoch \u001b[0m\u001b[1;34m02\u001b[0m - \u001b[33mLoss:\u001b[0m \u001b[1;36m1.1000\u001b[0m  \u001b[32mAccuracy:\u001b[0m \u001b[1;36m60.37\u001b[0m%\n"
            ],
            "text/html": [
              "<pre style=\"white-space:pre;overflow-x:auto;line-height:normal;font-family:Menlo,'DejaVu Sans Mono',consolas,'Courier New',monospace\"><span style=\"color: #000080; text-decoration-color: #000080\">Epoch </span><span style=\"color: #000080; text-decoration-color: #000080; font-weight: bold\">02</span> - <span style=\"color: #808000; text-decoration-color: #808000\">Loss:</span> <span style=\"color: #008080; text-decoration-color: #008080; font-weight: bold\">1.1000</span>  <span style=\"color: #008000; text-decoration-color: #008000\">Accuracy:</span> <span style=\"color: #008080; text-decoration-color: #008080; font-weight: bold\">60.37</span>%\n",
              "</pre>\n"
            ]
          },
          "metadata": {}
        },
        {
          "output_type": "display_data",
          "data": {
            "text/plain": [
              "\u001b[92m──────────────────────────────── \u001b[0m\u001b[1;32m✅ Training Complete \u001b[0m\u001b[1;32m(\u001b[0m\u001b[1;32mSimCLR Pretrained Encoder\u001b[0m\u001b[1;32m)\u001b[0m\u001b[92m ─────────────────────────────────\u001b[0m\n"
            ],
            "text/html": [
              "<pre style=\"white-space:pre;overflow-x:auto;line-height:normal;font-family:Menlo,'DejaVu Sans Mono',consolas,'Courier New',monospace\"><span style=\"color: #00ff00; text-decoration-color: #00ff00\">──────────────────────────────── </span><span style=\"color: #008000; text-decoration-color: #008000; font-weight: bold\">✅ Training Complete (SimCLR Pretrained Encoder)</span><span style=\"color: #00ff00; text-decoration-color: #00ff00\"> ─────────────────────────────────</span>\n",
              "</pre>\n"
            ]
          },
          "metadata": {}
        }
      ]
    },
    {
      "cell_type": "code",
      "source": [
        "checkpoint_path =\"/content/drive/MyDrive/ssl_onvision/dino-cifar10-0g6ueiuu-ep=39.ckpt\"\n"
      ],
      "metadata": {
        "id": "8dpQQnk9Xayr"
      },
      "id": "8dpQQnk9Xayr",
      "execution_count": null,
      "outputs": []
    },
    {
      "cell_type": "code",
      "source": [
        "# Load checkpoint (map_location is important if not using GPU)\n",
        "ckpt = torch.load(checkpoint_path, map_location=\"cpu\")\n",
        "# Check available keys\n",
        "print(\"Checkpoint keys:\", ckpt.keys())\n",
        "\n",
        "\n",
        "# Extract encoder state dict\n",
        "state_dict = ckpt[\"state_dict\"]\n",
        "encoder_state_dict = {k.replace(\"backbone.\", \"\"): v for k, v in state_dict.items() if k.startswith(\"backbone\")}\n",
        "# encoder_state_dict\n",
        "# Load into torchvision resnet18"
      ],
      "metadata": {
        "colab": {
          "base_uri": "https://localhost:8080/"
        },
        "id": "2Un39TQ4Xz3Q",
        "outputId": "08a5fdbd-7c6f-4a81-e1e7-5e0be2168b43"
      },
      "id": "2Un39TQ4Xz3Q",
      "execution_count": null,
      "outputs": [
        {
          "output_type": "stream",
          "name": "stdout",
          "text": [
            "Checkpoint keys: dict_keys(['epoch', 'global_step', 'pytorch-lightning_version', 'state_dict', 'loops', 'callbacks', 'optimizer_states', 'lr_schedulers', 'MixedPrecision'])\n"
          ]
        }
      ]
    },
    {
      "cell_type": "code",
      "source": [
        "class ResNet18CIFAR(ResNet):\n",
        "    def __init__(self):\n",
        "        super().__init__(\n",
        "            block=BasicBlock,\n",
        "            layers=[2, 2, 2, 2],\n",
        "            num_classes=10,\n",
        "        )\n",
        "        # Modify conv1 for CIFAR-10 (32x32 images)\n",
        "        self.conv1 = nn.Conv2d(\n",
        "            3, 64, kernel_size=3, stride=1, padding=1, bias=False\n",
        "        )\n",
        "        self.maxpool = nn.Identity()  # No maxpool for small images\n",
        "\n",
        "    def forward(self, x):\n",
        "        x = super().forward(x)\n",
        "        return x\n",
        "\n",
        "# Instantiate and strip fc layer\n",
        "model = ResNet18CIFAR()\n",
        "model.fc = nn.Identity()\n"
      ],
      "metadata": {
        "id": "8kTAOfLFYZEN"
      },
      "id": "8kTAOfLFYZEN",
      "execution_count": null,
      "outputs": []
    },
    {
      "cell_type": "code",
      "source": [
        "ckpt = torch.load(checkpoint_path, map_location=\"cpu\")\n",
        "state_dict = ckpt[\"state_dict\"]\n",
        "\n",
        "# Remove 'backbone.' prefix\n",
        "encoder_state_dict = {k.replace(\"backbone.\", \"\"): v for k, v in state_dict.items() if k.startswith(\"backbone\")}\n",
        "\n",
        "model.load_state_dict(encoder_state_dict, strict=False)\n",
        "\n",
        "\n",
        "# Move to device\n",
        "# model.to(\"cuda\" if torch.cuda.is_available() else \"cpu\")"
      ],
      "metadata": {
        "colab": {
          "base_uri": "https://localhost:8080/"
        },
        "id": "O5beCJmCYnqB",
        "outputId": "aa755f93-7414-4030-cf06-a750fdae3153"
      },
      "id": "O5beCJmCYnqB",
      "execution_count": null,
      "outputs": [
        {
          "output_type": "execute_result",
          "data": {
            "text/plain": [
              "<All keys matched successfully>"
            ]
          },
          "metadata": {},
          "execution_count": 20
        }
      ]
    },
    {
      "cell_type": "code",
      "source": [
        "transform = T.Compose([\n",
        "    T.Resize((32, 32)),\n",
        "    T.ToTensor(),\n",
        "]   )"
      ],
      "metadata": {
        "id": "6lU9Pf60Y0dL"
      },
      "id": "6lU9Pf60Y0dL",
      "execution_count": null,
      "outputs": []
    },
    {
      "cell_type": "code",
      "source": [
        "train_dataset = CIFAR10(root='./data', train=True, download=True, transform=transform)\n",
        "test_dataset  = CIFAR10(root='./data', train=False, download=True, transform=transform)\n",
        "\n",
        "train_loader = DataLoader(train_dataset, batch_size=512, shuffle=True, num_workers=8)\n",
        "test_loader  = DataLoader(test_dataset, batch_size=512, shuffle=False, num_workers=8)"
      ],
      "metadata": {
        "id": "2gUHX3huY5sC"
      },
      "id": "2gUHX3huY5sC",
      "execution_count": null,
      "outputs": []
    },
    {
      "cell_type": "code",
      "source": [
        "class CIFAR10Classifier(nn.Module):\n",
        "    def __init__(self, pretrained_encoder, num_classes=10, freeze_encoder=True):\n",
        "        super().__init__()\n",
        "        self.encoder = pretrained_encoder\n",
        "\n",
        "        # Get in_features before replacing the layer\n",
        "        in_features = getattr(self.encoder.fc, 'in_features', 512)  # default fallback\n",
        "\n",
        "        if freeze_encoder:\n",
        "            for param in self.encoder.parameters():\n",
        "                param.requires_grad = False\n",
        "\n",
        "        # Replace the classification head\n",
        "        self.encoder.fc = nn.Linear(in_features, num_classes)\n",
        "\n",
        "    def forward(self, x):\n",
        "        return self.encoder(x)"
      ],
      "metadata": {
        "id": "PrpIMP7FY81v"
      },
      "id": "PrpIMP7FY81v",
      "execution_count": null,
      "outputs": []
    },
    {
      "cell_type": "code",
      "source": [
        "classifier = CIFAR10Classifier(model, num_classes=10, freeze_encoder=False)\n",
        "device = \"cuda\" if torch.cuda.is_available() else \"cpu\"\n",
        "classifier.to(device)\n",
        "# Define loss function and optimizer\n",
        "criterion = nn.CrossEntropyLoss()\n",
        "optimizer = optim.Adam(classifier.parameters(), lr=1e-3)\n",
        "# Training loop\n",
        "num_epochs = 10\n",
        "for epoch in range(num_epochs):\n",
        "    classifier.train()\n",
        "    running_loss = 0.0\n",
        "    for images, labels in tqdm.tqdm(train_loader):\n",
        "        images, labels = images.to(device), labels.to(device)\n",
        "\n",
        "        # Forward pass\n",
        "        outputs = classifier(images)\n",
        "        loss = criterion(outputs, labels)\n",
        "\n",
        "        # Backward pass and optimization\n",
        "        optimizer.zero_grad()\n",
        "        loss.backward()\n",
        "        optimizer.step()\n",
        "\n",
        "        running_loss += loss.item() * images.size(0)\n",
        "\n",
        "    epoch_loss = running_loss / len(train_loader.dataset)\n",
        "    print(f\"Epoch [{epoch+1}/{num_epochs}], Loss: {epoch_loss:.4f}\")\n",
        "\n"
      ],
      "metadata": {
        "colab": {
          "base_uri": "https://localhost:8080/"
        },
        "id": "VUxSAObGY-6a",
        "outputId": "45a5fa4f-8ddf-429a-af10-4f70d94610b4"
      },
      "id": "VUxSAObGY-6a",
      "execution_count": null,
      "outputs": [
        {
          "output_type": "stream",
          "name": "stderr",
          "text": [
            "100%|██████████| 98/98 [00:42<00:00,  2.28it/s]\n"
          ]
        },
        {
          "output_type": "stream",
          "name": "stdout",
          "text": [
            "Epoch [1/10], Loss: 1.3572\n"
          ]
        },
        {
          "output_type": "stream",
          "name": "stderr",
          "text": [
            "100%|██████████| 98/98 [00:41<00:00,  2.34it/s]\n"
          ]
        },
        {
          "output_type": "stream",
          "name": "stdout",
          "text": [
            "Epoch [2/10], Loss: 0.8429\n"
          ]
        },
        {
          "output_type": "stream",
          "name": "stderr",
          "text": [
            "100%|██████████| 98/98 [00:41<00:00,  2.35it/s]\n"
          ]
        },
        {
          "output_type": "stream",
          "name": "stdout",
          "text": [
            "Epoch [3/10], Loss: 0.6158\n"
          ]
        },
        {
          "output_type": "stream",
          "name": "stderr",
          "text": [
            "100%|██████████| 98/98 [00:42<00:00,  2.32it/s]\n"
          ]
        },
        {
          "output_type": "stream",
          "name": "stdout",
          "text": [
            "Epoch [4/10], Loss: 0.4541\n"
          ]
        },
        {
          "output_type": "stream",
          "name": "stderr",
          "text": [
            "100%|██████████| 98/98 [00:42<00:00,  2.32it/s]\n"
          ]
        },
        {
          "output_type": "stream",
          "name": "stdout",
          "text": [
            "Epoch [5/10], Loss: 0.3448\n"
          ]
        },
        {
          "output_type": "stream",
          "name": "stderr",
          "text": [
            "100%|██████████| 98/98 [00:42<00:00,  2.33it/s]\n"
          ]
        },
        {
          "output_type": "stream",
          "name": "stdout",
          "text": [
            "Epoch [6/10], Loss: 0.2443\n"
          ]
        },
        {
          "output_type": "stream",
          "name": "stderr",
          "text": [
            "100%|██████████| 98/98 [00:41<00:00,  2.36it/s]\n"
          ]
        },
        {
          "output_type": "stream",
          "name": "stdout",
          "text": [
            "Epoch [7/10], Loss: 0.1557\n"
          ]
        },
        {
          "output_type": "stream",
          "name": "stderr",
          "text": [
            "100%|██████████| 98/98 [00:41<00:00,  2.35it/s]\n"
          ]
        },
        {
          "output_type": "stream",
          "name": "stdout",
          "text": [
            "Epoch [8/10], Loss: 0.1119\n"
          ]
        },
        {
          "output_type": "stream",
          "name": "stderr",
          "text": [
            "100%|██████████| 98/98 [00:41<00:00,  2.35it/s]\n"
          ]
        },
        {
          "output_type": "stream",
          "name": "stdout",
          "text": [
            "Epoch [9/10], Loss: 0.0900\n"
          ]
        },
        {
          "output_type": "stream",
          "name": "stderr",
          "text": [
            "100%|██████████| 98/98 [00:41<00:00,  2.36it/s]"
          ]
        },
        {
          "output_type": "stream",
          "name": "stdout",
          "text": [
            "Epoch [10/10], Loss: 0.0591\n"
          ]
        },
        {
          "output_type": "stream",
          "name": "stderr",
          "text": [
            "\n"
          ]
        }
      ]
    },
    {
      "cell_type": "code",
      "source": [
        "model.eval()  # Set to evaluation mode\n",
        "correct = 0\n",
        "total = 0\n",
        "with torch.no_grad():\n",
        "    for images, labels in test_loader:\n",
        "        images, labels = images.to(device), labels.to(device)\n",
        "        outputs = model(images)\n",
        "        _, predicted = torch.max(outputs, 1)\n",
        "        total += labels.size(0)\n",
        "        correct += (predicted == labels).sum().item()\n",
        "accuracy = 100 * correct / total\n",
        "print(f\"Test Accuracy: {accuracy:.2f}%\")"
      ],
      "metadata": {
        "colab": {
          "base_uri": "https://localhost:8080/"
        },
        "id": "16xHhvZ-aAUs",
        "outputId": "440cffa9-f56f-474f-f340-9f21126facba"
      },
      "id": "16xHhvZ-aAUs",
      "execution_count": null,
      "outputs": [
        {
          "output_type": "stream",
          "name": "stdout",
          "text": [
            "Test Accuracy: 69.87%\n"
          ]
        }
      ]
    },
    {
      "cell_type": "markdown",
      "source": [
        "# Demo of solo-learn"
      ],
      "metadata": {
        "id": "TCbSqsMKHZc-"
      },
      "id": "TCbSqsMKHZc-"
    },
    {
      "cell_type": "markdown",
      "source": [
        "![image.png](data:image/png;base64,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)"
      ],
      "metadata": {
        "id": "OTQy8Aj_pqX5"
      },
      "id": "OTQy8Aj_pqX5"
    },
    {
      "cell_type": "code",
      "source": [
        "!git clone https://github.com/vturrisi/solo-learn.git"
      ],
      "metadata": {
        "colab": {
          "base_uri": "https://localhost:8080/"
        },
        "id": "ZZZ1CrI8fVzo",
        "outputId": "2633fb67-16b0-4dde-94e8-407e68027c0a"
      },
      "id": "ZZZ1CrI8fVzo",
      "execution_count": null,
      "outputs": [
        {
          "output_type": "stream",
          "name": "stdout",
          "text": [
            "Cloning into 'solo-learn'...\n",
            "remote: Enumerating objects: 5302, done.\u001b[K\n",
            "remote: Counting objects: 100% (3/3), done.\u001b[K\n",
            "remote: Compressing objects: 100% (2/2), done.\u001b[K\n",
            "remote: Total 5302 (delta 1), reused 1 (delta 1), pack-reused 5299 (from 2)\u001b[K\n",
            "Receiving objects: 100% (5302/5302), 5.15 MiB | 8.42 MiB/s, done.\n",
            "Resolving deltas: 100% (3806/3806), done.\n"
          ]
        }
      ]
    },
    {
      "cell_type": "code",
      "source": [
        "%cd solo-learn"
      ],
      "metadata": {
        "colab": {
          "base_uri": "https://localhost:8080/"
        },
        "id": "WdfXxOMMgLmV",
        "outputId": "2fb8b9c0-a748-4dae-d5b7-e1713c7f2510"
      },
      "id": "WdfXxOMMgLmV",
      "execution_count": null,
      "outputs": [
        {
          "output_type": "stream",
          "name": "stdout",
          "text": [
            "/content/solo-learn\n"
          ]
        }
      ]
    },
    {
      "cell_type": "code",
      "source": [
        "!pip install -e ."
      ],
      "metadata": {
        "colab": {
          "base_uri": "https://localhost:8080/"
        },
        "id": "018AfNivf0PF",
        "outputId": "de545559-3143-425b-a432-621555af46f5"
      },
      "id": "018AfNivf0PF",
      "execution_count": null,
      "outputs": [
        {
          "output_type": "stream",
          "name": "stdout",
          "text": [
            "Obtaining file:///content/solo-learn\n",
            "  Preparing metadata (setup.py) ... \u001b[?25l\u001b[?25hdone\n",
            "Requirement already satisfied: torch>=1.10.0 in /usr/local/lib/python3.11/dist-packages (from solo-learn==1.0.6) (2.6.0+cu124)\n",
            "Requirement already satisfied: torchvision>=0.11.1 in /usr/local/lib/python3.11/dist-packages (from solo-learn==1.0.6) (0.21.0+cu124)\n",
            "Requirement already satisfied: einops in /usr/local/lib/python3.11/dist-packages (from solo-learn==1.0.6) (0.8.1)\n",
            "Requirement already satisfied: lightning==2.1.2 in /usr/local/lib/python3.11/dist-packages (from solo-learn==1.0.6) (2.1.2)\n",
            "Requirement already satisfied: torchmetrics<0.12.0,>=0.6.0 in /usr/local/lib/python3.11/dist-packages (from solo-learn==1.0.6) (0.11.4)\n",
            "Requirement already satisfied: tqdm in /usr/local/lib/python3.11/dist-packages (from solo-learn==1.0.6) (4.67.1)\n",
            "Requirement already satisfied: wandb in /usr/local/lib/python3.11/dist-packages (from solo-learn==1.0.6) (0.19.11)\n",
            "Requirement already satisfied: scipy in /usr/local/lib/python3.11/dist-packages (from solo-learn==1.0.6) (1.15.3)\n",
            "Requirement already satisfied: timm in /usr/local/lib/python3.11/dist-packages (from solo-learn==1.0.6) (1.0.15)\n",
            "Requirement already satisfied: scikit-learn in /usr/local/lib/python3.11/dist-packages (from solo-learn==1.0.6) (1.6.1)\n",
            "Requirement already satisfied: hydra-core in /usr/local/lib/python3.11/dist-packages (from solo-learn==1.0.6) (1.3.2)\n",
            "Requirement already satisfied: PyYAML<8.0,>=5.4 in /usr/local/lib/python3.11/dist-packages (from lightning==2.1.2->solo-learn==1.0.6) (6.0.2)\n",
            "Requirement already satisfied: fsspec<2025.0,>2021.06.0 in /usr/local/lib/python3.11/dist-packages (from fsspec[http]<2025.0,>2021.06.0->lightning==2.1.2->solo-learn==1.0.6) (2024.12.0)\n",
            "Requirement already satisfied: lightning-utilities<2.0,>=0.8.0 in /usr/local/lib/python3.11/dist-packages (from lightning==2.1.2->solo-learn==1.0.6) (0.14.3)\n",
            "Requirement already satisfied: numpy<3.0,>=1.17.2 in /usr/local/lib/python3.11/dist-packages (from lightning==2.1.2->solo-learn==1.0.6) (2.0.2)\n",
            "Requirement already satisfied: packaging<25.0,>=20.0 in /usr/local/lib/python3.11/dist-packages (from lightning==2.1.2->solo-learn==1.0.6) (24.2)\n",
            "Requirement already satisfied: typing-extensions<6.0,>=4.0.0 in /usr/local/lib/python3.11/dist-packages (from lightning==2.1.2->solo-learn==1.0.6) (4.14.0)\n",
            "Requirement already satisfied: pytorch-lightning in /usr/local/lib/python3.11/dist-packages (from lightning==2.1.2->solo-learn==1.0.6) (2.5.1.post0)\n",
            "Requirement already satisfied: filelock in /usr/local/lib/python3.11/dist-packages (from torch>=1.10.0->solo-learn==1.0.6) (3.18.0)\n",
            "Requirement already satisfied: networkx in /usr/local/lib/python3.11/dist-packages (from torch>=1.10.0->solo-learn==1.0.6) (3.5)\n",
            "Requirement already satisfied: jinja2 in /usr/local/lib/python3.11/dist-packages (from torch>=1.10.0->solo-learn==1.0.6) (3.1.6)\n",
            "Requirement already satisfied: nvidia-cuda-nvrtc-cu12==12.4.127 in /usr/local/lib/python3.11/dist-packages (from torch>=1.10.0->solo-learn==1.0.6) (12.4.127)\n",
            "Requirement already satisfied: nvidia-cuda-runtime-cu12==12.4.127 in /usr/local/lib/python3.11/dist-packages (from torch>=1.10.0->solo-learn==1.0.6) (12.4.127)\n",
            "Requirement already satisfied: nvidia-cuda-cupti-cu12==12.4.127 in /usr/local/lib/python3.11/dist-packages (from torch>=1.10.0->solo-learn==1.0.6) (12.4.127)\n",
            "Requirement already satisfied: nvidia-cudnn-cu12==9.1.0.70 in /usr/local/lib/python3.11/dist-packages (from torch>=1.10.0->solo-learn==1.0.6) (9.1.0.70)\n",
            "Requirement already satisfied: nvidia-cublas-cu12==12.4.5.8 in /usr/local/lib/python3.11/dist-packages (from torch>=1.10.0->solo-learn==1.0.6) (12.4.5.8)\n",
            "Requirement already satisfied: nvidia-cufft-cu12==11.2.1.3 in /usr/local/lib/python3.11/dist-packages (from torch>=1.10.0->solo-learn==1.0.6) (11.2.1.3)\n",
            "Requirement already satisfied: nvidia-curand-cu12==10.3.5.147 in /usr/local/lib/python3.11/dist-packages (from torch>=1.10.0->solo-learn==1.0.6) (10.3.5.147)\n",
            "Requirement already satisfied: nvidia-cusolver-cu12==11.6.1.9 in /usr/local/lib/python3.11/dist-packages (from torch>=1.10.0->solo-learn==1.0.6) (11.6.1.9)\n",
            "Requirement already satisfied: nvidia-cusparse-cu12==12.3.1.170 in /usr/local/lib/python3.11/dist-packages (from torch>=1.10.0->solo-learn==1.0.6) (12.3.1.170)\n",
            "Requirement already satisfied: nvidia-cusparselt-cu12==0.6.2 in /usr/local/lib/python3.11/dist-packages (from torch>=1.10.0->solo-learn==1.0.6) (0.6.2)\n",
            "Requirement already satisfied: nvidia-nccl-cu12==2.21.5 in /usr/local/lib/python3.11/dist-packages (from torch>=1.10.0->solo-learn==1.0.6) (2.21.5)\n",
            "Requirement already satisfied: nvidia-nvtx-cu12==12.4.127 in /usr/local/lib/python3.11/dist-packages (from torch>=1.10.0->solo-learn==1.0.6) (12.4.127)\n",
            "Requirement already satisfied: nvidia-nvjitlink-cu12==12.4.127 in /usr/local/lib/python3.11/dist-packages (from torch>=1.10.0->solo-learn==1.0.6) (12.4.127)\n",
            "Requirement already satisfied: triton==3.2.0 in /usr/local/lib/python3.11/dist-packages (from torch>=1.10.0->solo-learn==1.0.6) (3.2.0)\n",
            "Requirement already satisfied: sympy==1.13.1 in /usr/local/lib/python3.11/dist-packages (from torch>=1.10.0->solo-learn==1.0.6) (1.13.1)\n",
            "Requirement already satisfied: mpmath<1.4,>=1.1.0 in /usr/local/lib/python3.11/dist-packages (from sympy==1.13.1->torch>=1.10.0->solo-learn==1.0.6) (1.3.0)\n",
            "Requirement already satisfied: pillow!=8.3.*,>=5.3.0 in /usr/local/lib/python3.11/dist-packages (from torchvision>=0.11.1->solo-learn==1.0.6) (11.2.1)\n",
            "Requirement already satisfied: omegaconf<2.4,>=2.2 in /usr/local/lib/python3.11/dist-packages (from hydra-core->solo-learn==1.0.6) (2.3.0)\n",
            "Requirement already satisfied: antlr4-python3-runtime==4.9.* in /usr/local/lib/python3.11/dist-packages (from hydra-core->solo-learn==1.0.6) (4.9.3)\n",
            "Requirement already satisfied: joblib>=1.2.0 in /usr/local/lib/python3.11/dist-packages (from scikit-learn->solo-learn==1.0.6) (1.5.1)\n",
            "Requirement already satisfied: threadpoolctl>=3.1.0 in /usr/local/lib/python3.11/dist-packages (from scikit-learn->solo-learn==1.0.6) (3.6.0)\n",
            "Requirement already satisfied: huggingface_hub in /usr/local/lib/python3.11/dist-packages (from timm->solo-learn==1.0.6) (0.32.4)\n",
            "Requirement already satisfied: safetensors in /usr/local/lib/python3.11/dist-packages (from timm->solo-learn==1.0.6) (0.5.3)\n",
            "Requirement already satisfied: click!=8.0.0,>=7.1 in /usr/local/lib/python3.11/dist-packages (from wandb->solo-learn==1.0.6) (8.2.1)\n",
            "Requirement already satisfied: docker-pycreds>=0.4.0 in /usr/local/lib/python3.11/dist-packages (from wandb->solo-learn==1.0.6) (0.4.0)\n",
            "Requirement already satisfied: gitpython!=3.1.29,>=1.0.0 in /usr/local/lib/python3.11/dist-packages (from wandb->solo-learn==1.0.6) (3.1.44)\n",
            "Requirement already satisfied: platformdirs in /usr/local/lib/python3.11/dist-packages (from wandb->solo-learn==1.0.6) (4.3.8)\n",
            "Requirement already satisfied: protobuf!=4.21.0,!=5.28.0,<7,>=3.19.0 in /usr/local/lib/python3.11/dist-packages (from wandb->solo-learn==1.0.6) (5.29.5)\n",
            "Requirement already satisfied: psutil>=5.0.0 in /usr/local/lib/python3.11/dist-packages (from wandb->solo-learn==1.0.6) (5.9.5)\n",
            "Requirement already satisfied: pydantic<3 in /usr/local/lib/python3.11/dist-packages (from wandb->solo-learn==1.0.6) (2.11.5)\n",
            "Requirement already satisfied: requests<3,>=2.0.0 in /usr/local/lib/python3.11/dist-packages (from wandb->solo-learn==1.0.6) (2.32.3)\n",
            "Requirement already satisfied: sentry-sdk>=2.0.0 in /usr/local/lib/python3.11/dist-packages (from wandb->solo-learn==1.0.6) (2.29.1)\n",
            "Requirement already satisfied: setproctitle in /usr/local/lib/python3.11/dist-packages (from wandb->solo-learn==1.0.6) (1.3.6)\n",
            "Requirement already satisfied: setuptools in /usr/local/lib/python3.11/dist-packages (from wandb->solo-learn==1.0.6) (75.2.0)\n",
            "Requirement already satisfied: six>=1.4.0 in /usr/local/lib/python3.11/dist-packages (from docker-pycreds>=0.4.0->wandb->solo-learn==1.0.6) (1.17.0)\n",
            "Requirement already satisfied: aiohttp!=4.0.0a0,!=4.0.0a1 in /usr/local/lib/python3.11/dist-packages (from fsspec[http]<2025.0,>2021.06.0->lightning==2.1.2->solo-learn==1.0.6) (3.11.15)\n",
            "Requirement already satisfied: gitdb<5,>=4.0.1 in /usr/local/lib/python3.11/dist-packages (from gitpython!=3.1.29,>=1.0.0->wandb->solo-learn==1.0.6) (4.0.12)\n",
            "Requirement already satisfied: annotated-types>=0.6.0 in /usr/local/lib/python3.11/dist-packages (from pydantic<3->wandb->solo-learn==1.0.6) (0.7.0)\n",
            "Requirement already satisfied: pydantic-core==2.33.2 in /usr/local/lib/python3.11/dist-packages (from pydantic<3->wandb->solo-learn==1.0.6) (2.33.2)\n",
            "Requirement already satisfied: typing-inspection>=0.4.0 in /usr/local/lib/python3.11/dist-packages (from pydantic<3->wandb->solo-learn==1.0.6) (0.4.1)\n",
            "Requirement already satisfied: charset-normalizer<4,>=2 in /usr/local/lib/python3.11/dist-packages (from requests<3,>=2.0.0->wandb->solo-learn==1.0.6) (3.4.2)\n",
            "Requirement already satisfied: idna<4,>=2.5 in /usr/local/lib/python3.11/dist-packages (from requests<3,>=2.0.0->wandb->solo-learn==1.0.6) (3.10)\n",
            "Requirement already satisfied: urllib3<3,>=1.21.1 in /usr/local/lib/python3.11/dist-packages (from requests<3,>=2.0.0->wandb->solo-learn==1.0.6) (2.4.0)\n",
            "Requirement already satisfied: certifi>=2017.4.17 in /usr/local/lib/python3.11/dist-packages (from requests<3,>=2.0.0->wandb->solo-learn==1.0.6) (2025.4.26)\n",
            "Requirement already satisfied: hf-xet<2.0.0,>=1.1.2 in /usr/local/lib/python3.11/dist-packages (from huggingface_hub->timm->solo-learn==1.0.6) (1.1.2)\n",
            "Requirement already satisfied: MarkupSafe>=2.0 in /usr/local/lib/python3.11/dist-packages (from jinja2->torch>=1.10.0->solo-learn==1.0.6) (3.0.2)\n",
            "Requirement already satisfied: aiohappyeyeballs>=2.3.0 in /usr/local/lib/python3.11/dist-packages (from aiohttp!=4.0.0a0,!=4.0.0a1->fsspec[http]<2025.0,>2021.06.0->lightning==2.1.2->solo-learn==1.0.6) (2.6.1)\n",
            "Requirement already satisfied: aiosignal>=1.1.2 in /usr/local/lib/python3.11/dist-packages (from aiohttp!=4.0.0a0,!=4.0.0a1->fsspec[http]<2025.0,>2021.06.0->lightning==2.1.2->solo-learn==1.0.6) (1.3.2)\n",
            "Requirement already satisfied: attrs>=17.3.0 in /usr/local/lib/python3.11/dist-packages (from aiohttp!=4.0.0a0,!=4.0.0a1->fsspec[http]<2025.0,>2021.06.0->lightning==2.1.2->solo-learn==1.0.6) (25.3.0)\n",
            "Requirement already satisfied: frozenlist>=1.1.1 in /usr/local/lib/python3.11/dist-packages (from aiohttp!=4.0.0a0,!=4.0.0a1->fsspec[http]<2025.0,>2021.06.0->lightning==2.1.2->solo-learn==1.0.6) (1.6.0)\n",
            "Requirement already satisfied: multidict<7.0,>=4.5 in /usr/local/lib/python3.11/dist-packages (from aiohttp!=4.0.0a0,!=4.0.0a1->fsspec[http]<2025.0,>2021.06.0->lightning==2.1.2->solo-learn==1.0.6) (6.4.4)\n",
            "Requirement already satisfied: propcache>=0.2.0 in /usr/local/lib/python3.11/dist-packages (from aiohttp!=4.0.0a0,!=4.0.0a1->fsspec[http]<2025.0,>2021.06.0->lightning==2.1.2->solo-learn==1.0.6) (0.3.1)\n",
            "Requirement already satisfied: yarl<2.0,>=1.17.0 in /usr/local/lib/python3.11/dist-packages (from aiohttp!=4.0.0a0,!=4.0.0a1->fsspec[http]<2025.0,>2021.06.0->lightning==2.1.2->solo-learn==1.0.6) (1.20.0)\n",
            "Requirement already satisfied: smmap<6,>=3.0.1 in /usr/local/lib/python3.11/dist-packages (from gitdb<5,>=4.0.1->gitpython!=3.1.29,>=1.0.0->wandb->solo-learn==1.0.6) (5.0.2)\n",
            "Installing collected packages: solo-learn\n",
            "  Attempting uninstall: solo-learn\n",
            "    Found existing installation: solo-learn 1.0.6\n",
            "    Uninstalling solo-learn-1.0.6:\n",
            "      Successfully uninstalled solo-learn-1.0.6\n",
            "  Running setup.py develop for solo-learn\n",
            "Successfully installed solo-learn-1.0.6\n"
          ]
        }
      ]
    },
    {
      "cell_type": "markdown",
      "source": [
        "Changes need to be made to dino.yaml file:\n",
        "\n",
        ">max_epoch = 10 to avoid too much time for execution"
      ],
      "metadata": {
        "id": "j-G4C_AtE_Oz"
      },
      "id": "j-G4C_AtE_Oz"
    },
    {
      "cell_type": "code",
      "source": [
        "!python3 /content/solo-learn/main_pretrain.py --config-path /content/solo-learn/scripts/pretrain/cifar/ --config-name dino.yaml"
      ],
      "metadata": {
        "colab": {
          "base_uri": "https://localhost:8080/"
        },
        "id": "jztNVfhkgDda",
        "outputId": "421ba6bc-495a-47d9-c607-8e4b7ea3ef1a"
      },
      "id": "jztNVfhkgDda",
      "execution_count": null,
      "outputs": [
        {
          "output_type": "stream",
          "name": "stdout",
          "text": [
            "2025-06-09 11:53:51.688945: E external/local_xla/xla/stream_executor/cuda/cuda_fft.cc:477] Unable to register cuFFT factory: Attempting to register factory for plugin cuFFT when one has already been registered\n",
            "WARNING: All log messages before absl::InitializeLog() is called are written to STDERR\n",
            "E0000 00:00:1749470031.726369   17896 cuda_dnn.cc:8310] Unable to register cuDNN factory: Attempting to register factory for plugin cuDNN when one has already been registered\n",
            "E0000 00:00:1749470031.737554   17896 cuda_blas.cc:1418] Unable to register cuBLAS factory: Attempting to register factory for plugin cuBLAS when one has already been registered\n",
            "2025-06-09 11:53:51.769528: I tensorflow/core/platform/cpu_feature_guard.cc:210] This TensorFlow binary is optimized to use available CPU instructions in performance-critical operations.\n",
            "To enable the following instructions: AVX2 AVX512F FMA, in other operations, rebuild TensorFlow with the appropriate compiler flags.\n",
            "/usr/local/lib/python3.11/dist-packages/timm/models/helpers.py:7: FutureWarning: Importing from timm.models.helpers is deprecated, please import via timm.models\n",
            "  warnings.warn(f\"Importing from {__name__} is deprecated, please import via timm.models\", FutureWarning)\n",
            "/usr/local/lib/python3.11/dist-packages/timm/optim/optim_factory.py:7: FutureWarning: Importing from timm.optim.optim_factory is deprecated, please import via timm.optim\n",
            "  warnings.warn(f\"Importing from {__name__} is deprecated, please import via timm.optim\", FutureWarning)\n",
            "/usr/local/lib/python3.11/dist-packages/timm/models/registry.py:4: FutureWarning: Importing from timm.models.registry is deprecated, please import via timm.models\n",
            "  warnings.warn(f\"Importing from {__name__} is deprecated, please import via timm.models\", FutureWarning)\n",
            "/content/solo-learn/solo/backbones/convnext/convnext.py:26: UserWarning: Overwriting convnext_tiny in registry with solo.backbones.convnext.convnext.convnext_tiny. This is because the name being registered conflicts with an existing name. Please check if this is not expected.\n",
            "  @register_model\n",
            "/content/solo-learn/solo/backbones/convnext/convnext.py:33: UserWarning: Overwriting convnext_small in registry with solo.backbones.convnext.convnext.convnext_small. This is because the name being registered conflicts with an existing name. Please check if this is not expected.\n",
            "  @register_model\n",
            "/content/solo-learn/solo/backbones/convnext/convnext.py:40: UserWarning: Overwriting convnext_base in registry with solo.backbones.convnext.convnext.convnext_base. This is because the name being registered conflicts with an existing name. Please check if this is not expected.\n",
            "  @register_model\n",
            "/content/solo-learn/solo/backbones/convnext/convnext.py:47: UserWarning: Overwriting convnext_large in registry with solo.backbones.convnext.convnext.convnext_large. This is because the name being registered conflicts with an existing name. Please check if this is not expected.\n",
            "  @register_model\n",
            "/usr/local/lib/python3.11/dist-packages/timm/models/layers/__init__.py:48: FutureWarning: Importing from timm.models.layers is deprecated, please import via timm.layers\n",
            "  warnings.warn(f\"Importing from {__name__} is deprecated, please import via timm.layers\", FutureWarning)\n",
            "/content/solo-learn/solo/backbones/poolformer/poolformer.py:421: UserWarning: Overwriting poolformer_s12 in registry with solo.backbones.poolformer.poolformer.poolformer_s12. This is because the name being registered conflicts with an existing name. Please check if this is not expected.\n",
            "  @register_model\n",
            "/content/solo-learn/solo/backbones/poolformer/poolformer.py:446: UserWarning: Overwriting poolformer_s24 in registry with solo.backbones.poolformer.poolformer.poolformer_s24. This is because the name being registered conflicts with an existing name. Please check if this is not expected.\n",
            "  @register_model\n",
            "/content/solo-learn/solo/backbones/poolformer/poolformer.py:467: UserWarning: Overwriting poolformer_s36 in registry with solo.backbones.poolformer.poolformer.poolformer_s36. This is because the name being registered conflicts with an existing name. Please check if this is not expected.\n",
            "  @register_model\n",
            "/content/solo-learn/solo/backbones/poolformer/poolformer.py:489: UserWarning: Overwriting poolformer_m36 in registry with solo.backbones.poolformer.poolformer.poolformer_m36. This is because the name being registered conflicts with an existing name. Please check if this is not expected.\n",
            "  @register_model\n",
            "/content/solo-learn/solo/backbones/poolformer/poolformer.py:511: UserWarning: Overwriting poolformer_m48 in registry with solo.backbones.poolformer.poolformer.poolformer_m48. This is because the name being registered conflicts with an existing name. Please check if this is not expected.\n",
            "  @register_model\n",
            "/content/solo-learn/solo/utils/whitening.py:43: FutureWarning: `torch.cuda.amp.custom_fwd(args...)` is deprecated. Please use `torch.amp.custom_fwd(args..., device_type='cuda')` instead.\n",
            "  @custom_fwd(cast_inputs=torch.float32)\n",
            "/content/solo-learn/solo/utils/whitening.py:220: FutureWarning: `torch.cuda.amp.custom_fwd(args...)` is deprecated. Please use `torch.amp.custom_fwd(args..., device_type='cuda')` instead.\n",
            "  @custom_fwd(cast_inputs=torch.float32)\n",
            "/usr/local/lib/python3.11/dist-packages/torch/nn/utils/weight_norm.py:143: FutureWarning: `torch.nn.utils.weight_norm` is deprecated in favor of `torch.nn.utils.parametrizations.weight_norm`.\n",
            "  WeightNorm.apply(module, name, dim)\n",
            "/usr/local/lib/python3.11/dist-packages/torch/utils/data/dataloader.py:624: UserWarning: This DataLoader will create 4 worker processes in total. Our suggested max number of worker in current system is 2, which is smaller than what this DataLoader is going to create. Please be aware that excessive worker creation might get DataLoader running slow or even freeze, lower the worker number to avoid potential slowness/freeze if necessary.\n",
            "  warnings.warn(\n",
            "\u001b[34m\u001b[1mwandb\u001b[0m: (1) Create a W&B account\n",
            "\u001b[34m\u001b[1mwandb\u001b[0m: (2) Use an existing W&B account\n",
            "\u001b[34m\u001b[1mwandb\u001b[0m: (3) Don't visualize my results\n",
            "\u001b[34m\u001b[1mwandb\u001b[0m: Enter your choice: 3\n",
            "\u001b[34m\u001b[1mwandb\u001b[0m: You chose \"Don't visualize my results\"\n",
            "\u001b[34m\u001b[1mwandb\u001b[0m: Tracking run with wandb version 0.19.11\n",
            "\u001b[34m\u001b[1mwandb\u001b[0m: W&B syncing is set to \u001b[1m`offline`\u001b[0m in this directory. Run \u001b[1m`wandb online`\u001b[0m or set \u001b[1mWANDB_MODE=online\u001b[0m to enable cloud syncing.\n",
            "\u001b[34m\u001b[1mwandb\u001b[0m: logging graph, to disable use `wandb.watch(log_graph=False)`\n",
            "/usr/local/lib/python3.11/dist-packages/lightning/pytorch/plugins/precision/amp.py:54: `torch.cuda.amp.GradScaler(args...)` is deprecated. Please use `torch.amp.GradScaler('cuda', args...)` instead.\n",
            "/usr/local/lib/python3.11/dist-packages/torch/utils/data/dataloader.py:624: UserWarning: This DataLoader will create 4 worker processes in total. Our suggested max number of worker in current system is 2, which is smaller than what this DataLoader is going to create. Please be aware that excessive worker creation might get DataLoader running slow or even freeze, lower the worker number to avoid potential slowness/freeze if necessary.\n",
            "  warnings.warn(\n",
            "Epoch 0: 100% 97/97 [01:31<00:00,  1.06it/s, v_num=qadn]\n",
            "Validation: |          | 0/? [00:00<?, ?it/s]\u001b[A\n",
            "Validation:   0% 0/20 [00:00<?, ?it/s]       \u001b[A\n",
            "Validation DataLoader 0:   0% 0/20 [00:00<?, ?it/s]\u001b[A\n",
            "Validation DataLoader 0: 100% 20/20 [00:01<00:00, 11.61it/s]\u001b[A\n",
            "Epoch 1: 100% 97/97 [01:34<00:00,  1.02it/s, v_num=qadn]\n",
            "Validation: |          | 0/? [00:00<?, ?it/s]\u001b[A\n",
            "Validation:   0% 0/20 [00:00<?, ?it/s]       \u001b[A\n",
            "Validation DataLoader 0:   0% 0/20 [00:00<?, ?it/s]\u001b[A\n",
            "Validation DataLoader 0: 100% 20/20 [00:01<00:00, 11.54it/s]\u001b[A\n",
            "Epoch 2: 100% 97/97 [01:36<00:00,  1.01it/s, v_num=qadn]\n",
            "Validation: |          | 0/? [00:00<?, ?it/s]\u001b[A\n",
            "Validation:   0% 0/20 [00:00<?, ?it/s]       \u001b[A\n",
            "Validation DataLoader 0:   0% 0/20 [00:00<?, ?it/s]\u001b[A\n",
            "Validation DataLoader 0: 100% 20/20 [00:01<00:00, 11.93it/s]\u001b[A\n",
            "Epoch 3: 100% 97/97 [01:37<00:00,  1.01s/it, v_num=qadn]\n",
            "Validation: |          | 0/? [00:00<?, ?it/s]\u001b[A\n",
            "Validation:   0% 0/20 [00:00<?, ?it/s]       \u001b[A\n",
            "Validation DataLoader 0:   0% 0/20 [00:00<?, ?it/s]\u001b[A\n",
            "Validation DataLoader 0: 100% 20/20 [00:02<00:00,  9.29it/s]\u001b[A\n",
            "Epoch 4: 100% 97/97 [01:37<00:00,  1.01s/it, v_num=qadn]\n",
            "Validation: |          | 0/? [00:00<?, ?it/s]\u001b[A\n",
            "Validation:   0% 0/20 [00:00<?, ?it/s]       \u001b[A\n",
            "Validation DataLoader 0:   0% 0/20 [00:00<?, ?it/s]\u001b[A\n",
            "Validation DataLoader 0: 100% 20/20 [00:01<00:00, 11.96it/s]\u001b[A\n",
            "Epoch 5: 100% 97/97 [01:35<00:00,  1.01it/s, v_num=qadn]\n",
            "Validation: |          | 0/? [00:00<?, ?it/s]\u001b[A\n",
            "Validation:   0% 0/20 [00:00<?, ?it/s]       \u001b[A\n",
            "Validation DataLoader 0:   0% 0/20 [00:00<?, ?it/s]\u001b[A\n",
            "Validation DataLoader 0: 100% 20/20 [00:02<00:00,  7.23it/s]\u001b[A\n",
            "Epoch 6: 100% 97/97 [01:36<00:00,  1.01it/s, v_num=qadn]\n",
            "Validation: |          | 0/? [00:00<?, ?it/s]\u001b[A\n",
            "Validation:   0% 0/20 [00:00<?, ?it/s]       \u001b[A\n",
            "Validation DataLoader 0:   0% 0/20 [00:00<?, ?it/s]\u001b[A\n",
            "Validation DataLoader 0: 100% 20/20 [00:01<00:00, 11.30it/s]\u001b[A\n",
            "Epoch 7: 100% 97/97 [01:35<00:00,  1.01it/s, v_num=qadn]\n",
            "Validation: |          | 0/? [00:00<?, ?it/s]\u001b[A\n",
            "Validation:   0% 0/20 [00:00<?, ?it/s]       \u001b[A\n",
            "Validation DataLoader 0:   0% 0/20 [00:00<?, ?it/s]\u001b[A\n",
            "Validation DataLoader 0: 100% 20/20 [00:02<00:00,  7.01it/s]\u001b[A\n",
            "Epoch 8: 100% 97/97 [01:34<00:00,  1.03it/s, v_num=qadn]\n",
            "Validation: |          | 0/? [00:00<?, ?it/s]\u001b[A\n",
            "Validation:   0% 0/20 [00:00<?, ?it/s]       \u001b[A\n",
            "Validation DataLoader 0:   0% 0/20 [00:00<?, ?it/s]\u001b[A\n",
            "Validation DataLoader 0: 100% 20/20 [00:01<00:00, 11.01it/s]\u001b[A\n",
            "Epoch 9: 100% 97/97 [01:35<00:00,  1.02it/s, v_num=qadn]\n",
            "Validation: |          | 0/? [00:00<?, ?it/s]\u001b[A\n",
            "Validation:   0% 0/20 [00:00<?, ?it/s]       \u001b[A\n",
            "Validation DataLoader 0:   0% 0/20 [00:00<?, ?it/s]\u001b[A\n",
            "Validation DataLoader 0: 100% 20/20 [00:02<00:00,  7.03it/s]\u001b[A\n",
            "Epoch 9: 100% 97/97 [01:40<00:00,  1.04s/it, v_num=qadn]\n",
            "\u001b[1;34mwandb\u001b[0m: \n",
            "\u001b[1;34mwandb\u001b[0m: You can sync this run to the cloud by running:\n",
            "\u001b[1;34mwandb\u001b[0m: \u001b[1mwandb sync ./wandb/offline-run-20250609_115453-81kjqadn\u001b[0m\n",
            "[rank0]:[W609 12:11:41.118011553 ProcessGroupNCCL.cpp:1496] Warning: WARNING: destroy_process_group() was not called before program exit, which can leak resources. For more info, please see https://pytorch.org/docs/stable/distributed.html#shutdown (function operator())\n"
          ]
        }
      ]
    }
  ],
  "metadata": {
    "kernelspec": {
      "display_name": "Python 3",
      "name": "python3"
    },
    "language_info": {
      "codemirror_mode": {
        "name": "ipython",
        "version": 3
      },
      "file_extension": ".py",
      "mimetype": "text/x-python",
      "name": "python",
      "nbconvert_exporter": "python",
      "pygments_lexer": "ipython3",
      "version": "3.12.11"
    },
    "colab": {
      "provenance": [],
      "gpuType": "T4",
      "collapsed_sections": [
        "lGtolqWKADON",
        "M0M1SBrHAR2c",
        "vmBCVxPgBARS",
        "WCUQE7v2BFpH",
        "KS4ZP4NjBRew",
        "e-5Y6AGUPHTR",
        "cJ6OQNl9RFm7",
        "093o92x5T4NW",
        "a7X1y4GpUede",
        "TCbSqsMKHZc-"
      ],
      "include_colab_link": true
    },
    "accelerator": "GPU"
  },
  "nbformat": 4,
  "nbformat_minor": 5
}