{
  "cells": [
    {
      "cell_type": "markdown",
      "metadata": {
        "id": "view-in-github",
        "colab_type": "text"
      },
      "source": [
        "<a href=\"https://colab.research.google.com/github/jash0803/ai-for-social-good-acm-summer-school/blob/main/GNN_Hands_on_Shubhajit_Roy_SummerSchool2025.ipynb\" target=\"_parent\"><img src=\"https://colab.research.google.com/assets/colab-badge.svg\" alt=\"Open In Colab\"/></a>"
      ]
    },
    {
      "cell_type": "markdown",
      "id": "a5766b90",
      "metadata": {
        "id": "a5766b90",
        "tags": []
      },
      "source": [
        "# GNN Tutorial: Node Classification & Link Prediction with PyTorch Geometric"
      ]
    },
    {
      "cell_type": "markdown",
      "id": "0578aeda",
      "metadata": {
        "id": "0578aeda",
        "tags": []
      },
      "source": [
        "**Goals of this tutorial:**\n",
        "1. Understand the basics of GNNs and their representations.\n",
        "2. Learn how to use PyTorch Geometric for graph data handling and model building.\n",
        "3. Implement and train GNN models for node classification.\n",
        "4. Implement and train GNN models for link prediction.\n",
        "5. Discuss concepts, ask questions, and explore variations throughout the session."
      ]
    },
    {
      "cell_type": "markdown",
      "id": "2b266032",
      "metadata": {
        "id": "2b266032"
      },
      "source": [
        "## 1. Introduction to Graph Neural Networks\n",
        "\n",
        "**What are Graphs?**\n",
        "Graphs are structures used to represent relationships (edges) between entities (nodes).\n",
        "\n",
        "**What are Graph Neural Networks?**\n",
        "GNNs are a type of neural network designed to work directly with graph-structured data. They learn representations (embeddings) for nodes, edges, or entire graphs by aggregating information from their local neighborhoods.\n",
        "\n",
        "**Why GNNs?**\n",
        "- Capture complex relationships and dependencies in data.\n",
        "- Achieve state-of-the-art results on various graph-related tasks.\n",
        "- Can generalize to unseen nodes and graphs.\n"
      ]
    },
    {
      "cell_type": "markdown",
      "id": "66988f5f",
      "metadata": {
        "id": "66988f5f"
      },
      "source": [
        "**PyTorch Geometric (PyG):**\n",
        "PyG is a library built upon PyTorch to easily write and train GNNs for a wide range of applications related to structured data. It provides:\n",
        "- Data handling for graphs.\n",
        "- Implementations of many popular GNN layers and models.\n",
        "- Benchmark datasets.\n",
        "- Useful utilities for graph machine learning."
      ]
    },
    {
      "cell_type": "markdown",
      "id": "6d830faa",
      "metadata": {
        "id": "6d830faa"
      },
      "source": [
        "## 2. Setup and Installation\n",
        "\n",
        "If you haven't installed the necessary libraries, you can do so by running the following commands in your terminal or a code cell (remove the `!` if running in a terminal):"
      ]
    },
    {
      "cell_type": "code",
      "execution_count": null,
      "id": "fae65930",
      "metadata": {
        "id": "fae65930",
        "scrolled": true
      },
      "outputs": [],
      "source": [
        "!pip install torch torchvision torchaudio\n",
        "!pip install torch_geometric\n",
        "!pip install tqdm\n",
        "!pip install scikit-learn"
      ]
    },
    {
      "cell_type": "code",
      "execution_count": null,
      "id": "8dab702f",
      "metadata": {
        "id": "8dab702f",
        "scrolled": true
      },
      "outputs": [],
      "source": [
        "# Import Libraries\n",
        "import warnings\n",
        "warnings.filterwarnings(\"ignore\")\n",
        "import torch\n",
        "import torch.nn.functional as F\n",
        "import torch_geometric\n",
        "from tqdm import tqdm\n",
        "import matplotlib as mpl\n",
        "from sklearn.manifold import TSNE\n",
        "from torch_geometric.nn import GCNConv, SAGEConv, GATConv # Common GNN layers\n",
        "from torch_geometric.data import Data, DataLoader\n",
        "from torch_geometric.datasets import Planetoid, TUDataset # Benchmark datasets\n",
        "from torch_geometric.utils import train_test_split_edges, negative_sampling, to_networkx\n",
        "import torch_geometric.transforms as T\n",
        "\n",
        "import numpy as np\n",
        "import matplotlib.pyplot as plt\n",
        "import networkx as nx # For graph visualization (optional)"
      ]
    },
    {
      "cell_type": "code",
      "execution_count": null,
      "id": "cc420df8",
      "metadata": {
        "id": "cc420df8"
      },
      "outputs": [],
      "source": [
        "# Helper function for printing dataset information\n",
        "def print_dataset_summary(dataset_name, data):\n",
        "    print(f\"--- {dataset_name} Dataset Summary ---\")\n",
        "    print(f\"Number of graphs: {len(dataset) if isinstance(dataset, list) else 1}\")\n",
        "    print(f\"Number of nodes: {data.num_nodes}\")\n",
        "    print(f\"Number of edges: {data.num_edges}\")\n",
        "    print(f\"Number of node features: {data.num_node_features}\")\n",
        "    if hasattr(data, 'num_classes'):\n",
        "        print(f\"Number of classes: {data.num_classes}\")\n",
        "    print(f\"Contains isolated nodes: {data.has_isolated_nodes()}\")\n",
        "    print(f\"Contains self-loops: {data.has_self_loops()}\")\n",
        "    print(f\"Is undirected: {data.is_undirected()}\")\n",
        "    print(f\"Data object: {data}\")\n",
        "    print(\"-----------------------------------\")\n",
        "\n",
        "print(f\"PyTorch version: {torch.__version__}\")\n",
        "print(f\"PyG version: {torch_geometric.__version__}\")\n",
        "\n",
        "# Set device (GPU/MPS if available, otherwise CPU)\n",
        "device = torch.device('cuda' if torch.cuda.is_available() else 'mps' if torch.backends.mps.is_available() else 'cpu')\n",
        "print(f\"Using device: {device}\")"
      ]
    },
    {
      "cell_type": "markdown",
      "id": "2e590306",
      "metadata": {
        "id": "2e590306"
      },
      "source": [
        "## 3. Understanding Graph Data in PyTorch Geometric\n",
        "\n",
        "PyG represents graphs using the `torch_geometric.data.Data` object. Key attributes include:\n",
        "\n",
        "| Attribute                                      | Description                                                    |\n",
        "| ---------------------------------------------- | -------------------------------------------------------------- |\n",
        "| `x`                                            | Node features matrix of shape `[num_nodes, num_features]`.     |\n",
        "| `edge_index`                                   | Graph connectivity in COO format `[2, num_edges]`.             |\n",
        "| `y`                                            | Node or graph labels (can be for classification/regression).   |\n",
        "\n",
        "\n",
        "Let's create a simple example:"
      ]
    },
    {
      "cell_type": "code",
      "execution_count": null,
      "id": "e4cb74fc",
      "metadata": {
        "id": "e4cb74fc",
        "scrolled": true
      },
      "outputs": [],
      "source": [
        "# Example: A simple graph with 3 nodes and 2 edges\n",
        "# Nodes: 0, 1, 2\n",
        "# Edges: (0,1), (1,2)\n",
        "\n",
        "x = torch.tensor([\n",
        "    [-1, 1], # Node 0 features\n",
        "    [0, 0],  # Node 1 features\n",
        "    [1, -1]  # Node 2 features\n",
        "], dtype=torch.float)\n",
        "\n",
        "edge_index = torch.tensor([\n",
        "    [0, 1],  # Source nodes\n",
        "    [1, 2]   # Target nodes\n",
        "], dtype=torch.long)\n",
        "\n",
        "# Create a Data object\n",
        "simple_data = Data(x=x, edge_index=edge_index)\n",
        "print(simple_data)"
      ]
    },
    {
      "cell_type": "markdown",
      "id": "baaaec19",
      "metadata": {
        "id": "baaaec19"
      },
      "source": [
        "### 3.1 Attributes of Graphs"
      ]
    },
    {
      "cell_type": "code",
      "execution_count": null,
      "id": "602ba140",
      "metadata": {
        "id": "602ba140"
      },
      "outputs": [],
      "source": [
        "# For the previous graph, suppose we want to assign some more information to nodes or edges\n",
        "node_info = torch.tensor([\n",
        "    True, # Node 0 information\n",
        "    True, # Node 1 information\n",
        "    False # Node 2 information\n",
        "])\n",
        "\n",
        "edge_attr = torch.tensor([\n",
        "    1.5, # Edge between 0 and 1\n",
        "    9.0, # Edge between 1 and 2\n",
        "\n",
        "])\n",
        "simple_data.node_info = node_info\n",
        "simple_data.edge_attr = edge_attr\n",
        "print(simple_data)"
      ]
    },
    {
      "cell_type": "code",
      "execution_count": null,
      "id": "b99b9d60",
      "metadata": {
        "id": "b99b9d60"
      },
      "outputs": [],
      "source": [
        "# Helper functions for plotting graph\n",
        "def nudge(pos, x_shift, y_shift):\n",
        "    return {n: (x + x_shift, y + y_shift) for n, (x, y) in pos.items()}\n",
        "\n",
        "def draw_graph_with_attributes(data, show_x=True, figsize = (8, 8), x_nudge = 0.0, y_nudge = 0.07,\n",
        "    ax = None,\n",
        "    font_color = \"green\",\n",
        "    edge_color = \"black\",\n",
        "    node_color = \"lightblue\"):\n",
        "    \"\"\"Draw a graph with node labels and attributes\"\"\"\n",
        "    if ax is None:\n",
        "        fig, ax = plt.subplots(1, 1, figsize=figsize)\n",
        "\n",
        "    G = to_networkx(data)\n",
        "    pos = nx.spring_layout(G)\n",
        "    nx.set_node_attributes(G, {n:{\"x\": data.x[n].tolist()} for n in range(data.num_nodes)})\n",
        "\n",
        "    nx.draw_networkx(G, pos=pos, with_labels=True, ax=ax, edge_color=edge_color, node_color=node_color)\n",
        "    pos_nudged = nudge(pos, x_nudge, y_nudge)\n",
        "    if show_x:\n",
        "        props = nx.get_node_attributes(G, \"x\")\n",
        "        props = {\n",
        "            node_id: np.array2string(np.array(x), precision=2, separator=\",\")\n",
        "            for node_id, x in props.items()\n",
        "        }\n",
        "        nx.draw_networkx_labels(\n",
        "            G, pos=pos_nudged, labels=props, ax=ax, font_color=font_color\n",
        "            )\n",
        "    ax.set_ylim(tuple(i * 1.1 for i in ax.get_ylim()))\n",
        "    ax.spines[\"top\"].set_visible(False)\n",
        "    ax.spines[\"right\"].set_visible(False)\n",
        "    ax.spines[\"bottom\"].set_visible(False)\n",
        "    ax.spines[\"left\"].set_visible(False)"
      ]
    },
    {
      "cell_type": "code",
      "execution_count": null,
      "id": "a0a25cfc",
      "metadata": {
        "id": "a0a25cfc"
      },
      "outputs": [],
      "source": [
        "draw_graph_with_attributes(simple_data)"
      ]
    },
    {
      "cell_type": "markdown",
      "id": "ea7c27d6",
      "metadata": {
        "id": "ea7c27d6"
      },
      "source": [
        "### 🔹 Discussion Point 🔹\n",
        "- What other attributes can a `Data` object hold (e.g., `train_mask`, `test_mask`)? How are they used?"
      ]
    },
    {
      "cell_type": "markdown",
      "id": "e17cc612",
      "metadata": {
        "id": "e17cc612"
      },
      "source": []
    },
    {
      "cell_type": "markdown",
      "id": "7779adb9",
      "metadata": {
        "id": "7779adb9"
      },
      "source": [
        "### 🔹 Coding Point 🔹\n",
        "- Create a directed graph of 10 nodes with atleast 15 edges\n",
        "- Assign random features of dimension 5\n",
        "- Assign edge weights to each edge\n",
        "- Assign class to each node (Binary class)\n",
        "- Create a `train_mask`, `val_mask`, `test_mask` for nodes\n",
        "- Visualise the graph `draw_graph_with_attributes()` function"
      ]
    },
    {
      "cell_type": "code",
      "execution_count": null,
      "id": "8df29219",
      "metadata": {
        "id": "8df29219"
      },
      "outputs": [],
      "source": []
    },
    {
      "cell_type": "code",
      "execution_count": null,
      "id": "fe944a1e",
      "metadata": {
        "id": "fe944a1e"
      },
      "outputs": [],
      "source": []
    },
    {
      "cell_type": "markdown",
      "id": "ca436f34",
      "metadata": {
        "id": "ca436f34"
      },
      "source": [
        "### 🔹 Coding Point 🔹\n",
        "- How would you represent a directed graph vs. an undirected graph using `edge_index`?\n",
        "- Modify the previously create graph to make it undirected"
      ]
    },
    {
      "cell_type": "code",
      "execution_count": null,
      "id": "f06c10ac",
      "metadata": {
        "id": "f06c10ac"
      },
      "outputs": [],
      "source": []
    },
    {
      "cell_type": "code",
      "execution_count": null,
      "id": "ebaa9f44",
      "metadata": {
        "id": "ebaa9f44"
      },
      "outputs": [],
      "source": []
    },
    {
      "cell_type": "markdown",
      "id": "4bdd6cad",
      "metadata": {
        "id": "4bdd6cad"
      },
      "source": [
        "## 4. Part 1: Node Classification\n",
        "\n",
        "**Task:** Predict the category (label) of each node in a graph.\n",
        "\n",
        "**Example:** In a citation network, classify research papers into different academic fields based on their citation links and content (node features)."
      ]
    },
    {
      "cell_type": "markdown",
      "id": "a6287cb5",
      "metadata": {
        "id": "a6287cb5"
      },
      "source": [
        "### 4.1. Dataset: Cora\n",
        "\n",
        "The Cora dataset is a standard benchmark for node classification. It's a citation network where:\n",
        "- **Nodes:** Scientific publications.\n",
        "- **Edges:** Citation links between publications.\n",
        "- **Node Features:** A binary word vector (bag-of-words) indicating the presence/absence of words from a dictionary.\n",
        "- **Labels:** The academic field of each publication (7 classes).\n",
        "\n",
        "PyG provides easy access to this dataset through `torch_geometric.datasets.Planetoid`."
      ]
    },
    {
      "cell_type": "code",
      "execution_count": null,
      "id": "7933003a",
      "metadata": {
        "id": "7933003a",
        "scrolled": true
      },
      "outputs": [],
      "source": [
        "# Load the Cora dataset\n",
        "dataset_name = 'Cora'\n",
        "dataset = Planetoid(root='/tmp/Cora', name=dataset_name, transform=T.NormalizeFeatures())\n",
        "data = dataset[0] # Get the single graph object\n",
        "\n",
        "# Print dataset summary\n",
        "print_dataset_summary(dataset_name, data)\n",
        "\n",
        "# Explore masks for training, validation, and testing\n",
        "print(f\"\\nTrain mask sum: {data.train_mask.sum().item()}\")\n",
        "print(f\"Validation mask sum: {data.val_mask.sum().item()}\")\n",
        "print(f\"Test mask sum: {data.test_mask.sum().item()}\")"
      ]
    },
    {
      "cell_type": "code",
      "execution_count": null,
      "id": "e42fcb2b",
      "metadata": {
        "id": "e42fcb2b"
      },
      "outputs": [],
      "source": [
        "import matplotlib.patches as mpatches\n",
        "G = to_networkx(data, to_undirected=True)\n",
        "\n",
        "pos = TSNE(\n",
        "        n_components=2, learning_rate=\"auto\", init=\"random\", perplexity=30\n",
        "    ).fit_transform(data.x.detach().cpu().numpy())\n",
        "\n",
        "colors = [\n",
        "    'red' if data.train_mask[i] else\n",
        "    'green' if data.val_mask[i] else\n",
        "    'blue' if data.test_mask[i] else\n",
        "    'gray'\n",
        "    for i in range(data.num_nodes)\n",
        "]# Assign colors based on mask"
      ]
    },
    {
      "cell_type": "code",
      "execution_count": null,
      "id": "e6858e07",
      "metadata": {
        "id": "e6858e07"
      },
      "outputs": [],
      "source": [
        "plt.figure(figsize=(8, 6))\n",
        "nx.draw(G, pos, node_color=colors, with_labels=False, node_size=5, width=0.1)\n",
        "legend_handles = [\n",
        "    mpatches.Patch(color='red', label='Train'),\n",
        "    mpatches.Patch(color='green', label='Validation'),\n",
        "    mpatches.Patch(color='blue', label='Test'),\n",
        "    mpatches.Patch(color='gray', label='Unlabeled')]\n",
        "plt.legend(handles=legend_handles, loc='best')\n",
        "plt.show()"
      ]
    },
    {
      "cell_type": "markdown",
      "id": "a7984a0a",
      "metadata": {
        "id": "a7984a0a"
      },
      "source": [
        "### 4.2. Defining a GNN Model (GCN)\n",
        "\n",
        "We'll use a simple Graph Convolutional Network (GCN) model. A GCN layer updates a node's representation by aggregating feature information from its neighbors.\n",
        "\n",
        "A 2-layer GCN can be defined as:\n",
        "$Z = f(X, A) = \\text{softmax}(\\hat{A} \\text{ ReLU}(\\hat{A} X W^{(0)}) W^{(1)})$\n",
        "\n",
        "Where:\n",
        "- $X$: Node feature matrix.\n",
        "- $A$: Adjacency matrix (often normalized, $\\hat{A} = D^{-1/2} A D^{-1/2}$).\n",
        "- $W^{(0)}, W^{(1)}$: Trainable weight matrices.\n",
        "- ReLU: Activation function.\n",
        "- softmax: For multi-class classification output.\n",
        "\n",
        "In PyG, we use `GCNConv` layers."
      ]
    },
    {
      "cell_type": "markdown",
      "id": "8e44ed3c",
      "metadata": {
        "id": "8e44ed3c"
      },
      "source": [
        "<img src=\"https://i.postimg.cc/Y2k8CdkV/GNN-2-Layers-drawio.png?dl=1\" width=\"1500\" height=\"240\" />\n"
      ]
    },
    {
      "cell_type": "code",
      "execution_count": null,
      "id": "66f62dc8",
      "metadata": {
        "id": "66f62dc8",
        "scrolled": true
      },
      "outputs": [],
      "source": [
        "class GCN_2Layers(torch.nn.Module):\n",
        "    def __init__(self, in_channels, hidden_channels, out_channels, dropout_rate=0.5):\n",
        "        super(GCN_2Layers, self).__init__()\n",
        "        torch.manual_seed(12345) # For reproducibility\n",
        "        self.conv1 = GCNConv(in_channels, hidden_channels)\n",
        "        self.conv2 = GCNConv(hidden_channels, out_channels)\n",
        "        self.dropout_rate = dropout_rate\n",
        "\n",
        "    def forward(self, x, edge_index):\n",
        "        # First GCN layer\n",
        "        x = self.conv1(x, edge_index)\n",
        "        x = F.relu(x)\n",
        "        x = F.dropout(x, p=self.dropout_rate, training=self.training) # Apply dropout\n",
        "\n",
        "        x = self.conv2(x, edge_index) # Second GCN layer\n",
        "\n",
        "        return F.log_softmax(x, dim=1) # Output layer (log_softmax for NLLLoss)"
      ]
    },
    {
      "cell_type": "markdown",
      "id": "6538009c",
      "metadata": {
        "id": "6538009c"
      },
      "source": [
        "### 🔹 Coding Point 🔹\n",
        "- Create a new class `GCN_nLayers` to create a GNN model with `n` number of layers"
      ]
    },
    {
      "cell_type": "markdown",
      "id": "cb2d479f",
      "metadata": {
        "id": "cb2d479f"
      },
      "source": [
        "<img src=\"https://i.postimg.cc/RMkXjMYv/GNN-n-Layer-drawio.png?dl=1\" width=\"1500\" height=\"200\" />"
      ]
    },
    {
      "cell_type": "code",
      "execution_count": null,
      "id": "464227ed",
      "metadata": {
        "id": "464227ed"
      },
      "outputs": [],
      "source": []
    },
    {
      "cell_type": "markdown",
      "id": "a7cc632c",
      "metadata": {
        "id": "a7cc632c"
      },
      "source": [
        "### 4.3. Training the Node Classification Model"
      ]
    },
    {
      "cell_type": "code",
      "execution_count": null,
      "id": "4bfb1a8d",
      "metadata": {
        "id": "4bfb1a8d"
      },
      "outputs": [],
      "source": [
        "def train_node_classifier(model, criterion, optimizer):\n",
        "    model.train() # Set the model to training mode\n",
        "    model.zero_grad()  # Clear gradients\n",
        "    out = model(data.x, data.edge_index)  # Perform a single forward pass\n",
        "    # Compute loss only on training nodes\n",
        "    loss = criterion(out[data.train_mask], data.y[data.train_mask])\n",
        "    loss.backward()  # Derive gradients\n",
        "    optimizer.step()  # Update parameters based on gradients\n",
        "    return loss.item()\n",
        "\n",
        "@torch.no_grad() # Decorator to disable gradient calculation for evaluation\n",
        "def test_node_classifier(model, criterion, mask):\n",
        "    model.eval() # Set the model to evaluation mode\n",
        "    out = model(data.x, data.edge_index)\n",
        "    loss = criterion(out[mask], data.y[mask])\n",
        "    pred = out.argmax(dim=1)  # Use the class with highest probability\n",
        "    correct = pred[mask] == data.y[mask]  # Check against ground-truth labels\n",
        "    acc = int(correct.sum()) / int(mask.sum())  # Derive accuracy\n",
        "    return acc, loss.item()"
      ]
    },
    {
      "cell_type": "code",
      "execution_count": null,
      "id": "aa224051",
      "metadata": {
        "id": "aa224051"
      },
      "outputs": [],
      "source": [
        "# Instantiate the model\n",
        "node_model_2 = GCN_2Layers(\n",
        "    in_channels=dataset.num_node_features,\n",
        "    hidden_channels=128, # You can experiment with this\n",
        "    out_channels=dataset.num_classes,\n",
        ").to(device)\n",
        "print(\"Node Classification Model (2-Layer GCN):\")\n",
        "print(node_model_2)\n",
        "\n",
        "# Optimizer\n",
        "optimizer_2 = torch.optim.Adam(node_model_2.parameters(), lr=0.01, weight_decay=5e-4)\n",
        "\n",
        "# Loss function (Negative Log Likelihood Loss for multi-class classification)\n",
        "criterion = torch.nn.NLLLoss()\n",
        "\n",
        "# Move data to device\n",
        "data = data.to(device)\n",
        "\n",
        "# Training loop\n",
        "epochs = 200\n",
        "train_losses_2, val_losses_2 = [], []\n",
        "val_accuracies_2 = []\n",
        "best_val_loss_2 = float('inf')\n",
        "best_val_acc_2 = 0"
      ]
    },
    {
      "cell_type": "code",
      "execution_count": null,
      "id": "a3bf4bb5",
      "metadata": {
        "id": "a3bf4bb5"
      },
      "outputs": [],
      "source": [
        "print(\"--- Training Node Classification Model (2-Layer)---\")\n",
        "for epoch in range(1, epochs + 1):\n",
        "    loss = train_node_classifier(node_model_2, criterion, optimizer_2)\n",
        "    train_losses_2.append(loss)\n",
        "\n",
        "    # Validation\n",
        "    val_acc, val_loss = test_node_classifier(node_model_2, criterion, data.val_mask)\n",
        "    val_accuracies_2.append(val_acc); val_losses_2.append(val_loss)\n",
        "\n",
        "    if epoch == 1 or val_loss <= best_val_loss:\n",
        "        best_val_loss = val_loss\n",
        "        best_val_acc = val_acc\n",
        "        torch.save(node_model_2.state_dict(), 'node_model_2.pt') # Save the best model\n",
        "\n",
        "    if epoch % 50 == 0 or epoch == 1:\n",
        "        print(f'Epoch: {epoch:03d}, Train Loss: {loss:.4f}, Val Loss: {val_loss:.4f}, Val Acc: {val_acc:.4f}')\n",
        "print(\"--- Training Complete ---\")"
      ]
    },
    {
      "cell_type": "code",
      "execution_count": null,
      "id": "d806fae7",
      "metadata": {
        "id": "d806fae7",
        "scrolled": true
      },
      "outputs": [],
      "source": [
        "# Plotting training loss and validation accuracy\n",
        "fig, ax1 = plt.subplots(figsize=(10, 3))\n",
        "ax1.set_xlabel('Epoch')\n",
        "ax1.set_ylabel('Loss', color='tab:red')\n",
        "ax1.plot(train_losses_2, color='tab:red', label='Training Loss')\n",
        "ax1.tick_params(axis='y', labelcolor='tab:red')\n",
        "\n",
        "ax2 = ax1.twinx()\n",
        "ax2.set_ylabel('Accuracy', color='tab:blue')\n",
        "ax2.plot(val_accuracies_2, '--', color='tab:blue', label='Validation Accuracy')\n",
        "ax2.tick_params(axis='y', labelcolor='tab:blue')\n",
        "\n",
        "fig.tight_layout()\n",
        "fig.legend(loc='upper right', bbox_to_anchor=(1,1), bbox_transform=ax1.transAxes)\n",
        "plt.show()\n"
      ]
    },
    {
      "cell_type": "markdown",
      "id": "d715e9ab",
      "metadata": {
        "id": "d715e9ab"
      },
      "source": [
        "### 4.4. Evaluating the Model\n",
        "\n",
        "After training, we evaluate the model's performance on the unseen test data."
      ]
    },
    {
      "cell_type": "code",
      "execution_count": null,
      "id": "801e15fb",
      "metadata": {
        "id": "801e15fb",
        "scrolled": true
      },
      "outputs": [],
      "source": [
        "# Re-Instantiate model\n",
        "node_model_2 = GCN_2Layers(\n",
        "    in_channels=dataset.num_node_features,\n",
        "    hidden_channels=128,\n",
        "    out_channels=dataset.num_classes,\n",
        ").to(device)\n",
        "\n",
        "node_model_2.load_state_dict(torch.load('node_model_2.pt', weights_only=True)) # Load the best model learnt\n",
        "\n",
        "final_test_acc_2, final_test_loss_2 = test_node_classifier(node_model_2, criterion, data.test_mask)\n",
        "print(f'Final Test Accuracy using 2-Layer GCN: {final_test_acc_2:.4f}')"
      ]
    },
    {
      "cell_type": "code",
      "execution_count": null,
      "id": "f84738c0",
      "metadata": {
        "id": "f84738c0"
      },
      "outputs": [],
      "source": [
        "out = node_model_2(data.x, data.edge_index)\n",
        "G = to_networkx(data, to_undirected=True)\n",
        "pos_learned = TSNE(n_components=2, learning_rate=\"auto\", init=\"random\", perplexity=30).fit_transform(out.detach().cpu().numpy())\n",
        "pos_dataset = TSNE(n_components=2, learning_rate=\"auto\", init=\"random\", perplexity=30).fit_transform(data.x.detach().cpu().numpy())\n",
        "color_list = list(mpl.colormaps[\"tab10\"].colors)[0 : dataset.num_classes]\n",
        "fig, axes = plt.subplots(1, 2, figsize=(10, 5))\n",
        "\n",
        "nx.draw(G, pos_dataset, ax=axes[0], with_labels=False, node_color=[color_list[community] for community in data.y], edge_color='black',\n",
        "        width=0.1, node_size=10); axes[0].set_title(\"Node Embedding(t-SNE) before GNN\")\n",
        "nx.draw(G, pos_learned, ax=axes[1], with_labels=False, node_color=[color_list[community] for community in data.y], edge_color='black',\n",
        "       width=0.1, node_size=10); axes[1].set_title(\"Node Embedding(t-SNE) After GNN\")\n",
        "\n",
        "plt.tight_layout(); plt.show()"
      ]
    },
    {
      "cell_type": "markdown",
      "id": "f78ed5bf",
      "metadata": {
        "id": "f78ed5bf"
      },
      "source": [
        "### 🔹 Discussion Point 🔹\n",
        "- How could we improve this model further?"
      ]
    },
    {
      "cell_type": "markdown",
      "id": "7a108d75",
      "metadata": {
        "id": "7a108d75"
      },
      "source": []
    },
    {
      "cell_type": "markdown",
      "id": "1564c9e7",
      "metadata": {
        "id": "1564c9e7"
      },
      "source": [
        "### 🔹 Discussion Point 🔹\n",
        "- What are common pitfalls in training GNNs?"
      ]
    },
    {
      "cell_type": "markdown",
      "id": "a7a68fc7",
      "metadata": {
        "id": "a7a68fc7"
      },
      "source": []
    },
    {
      "cell_type": "markdown",
      "id": "01ebe136",
      "metadata": {
        "id": "01ebe136"
      },
      "source": [
        "### 🔹 Coding Point 🔹\n",
        "- Create a new class `GNN_JumpingKnowledge` with `n` many layers\n",
        "- The pipeline is as follows:\n",
        "<img src=\"https://i.postimg.cc/z5mcQjmT/Jumping-Knowledge-drawio.png?dl=1\" width=\"1000\" height=\"200\" />\n",
        "- Compare the performance of `GNN_2Layers`, `GNN_nLayers`, and `GNN_JumpingKnowledge`"
      ]
    },
    {
      "cell_type": "code",
      "execution_count": null,
      "id": "22fc0ab3",
      "metadata": {
        "id": "22fc0ab3"
      },
      "outputs": [],
      "source": []
    },
    {
      "cell_type": "markdown",
      "id": "199fea64",
      "metadata": {
        "id": "199fea64"
      },
      "source": [
        "### 🔹 Discussion Point 🔹\n",
        "- How would you handle a dataset with a very large number of nodes (scalability)?"
      ]
    },
    {
      "cell_type": "markdown",
      "id": "5d71b6df",
      "metadata": {
        "id": "5d71b6df"
      },
      "source": []
    },
    {
      "cell_type": "markdown",
      "id": "76a1c5a0",
      "metadata": {
        "id": "76a1c5a0"
      },
      "source": [
        "## 5. Part 2: Link Prediction\n",
        "\n",
        "**Task:** Predict whether an edge (link) exists or is likely to form between two nodes in a graph.\n",
        "\n",
        "**Example:** In a social network, recommend new friends (predict missing links). In a protein-protein interaction network, predict undiscovered interactions."
      ]
    },
    {
      "cell_type": "markdown",
      "id": "ad242050",
      "metadata": {
        "id": "ad242050"
      },
      "source": [
        "### 5.1. Preparing Data for Link Prediction\n",
        "\n",
        "For link prediction, we need:\n",
        "1.  **Positive edges:** Existing edges in the graph, split into training, validation, and test sets.\n",
        "2.  **Negative edges:** Pairs of nodes that are *not* connected. These are sampled from the graph.\n",
        "\n",
        "PyG provides `torch_geometric.utils.train_test_split_edges` to help with this. This function modifies the `data` object by adding `train_pos_edge_index`, `val_pos_edge_index`, `val_neg_edge_index`, etc."
      ]
    },
    {
      "cell_type": "code",
      "execution_count": null,
      "id": "ee660629",
      "metadata": {
        "id": "ee660629",
        "scrolled": true
      },
      "outputs": [],
      "source": [
        "link_pred_dataset = Planetoid(root='/tmp/Cora_LP', name='Cora', transform=T.NormalizeFeatures())\n",
        "link_pred_data = link_pred_dataset[0]\n",
        "\n",
        "# To avoid modifying the original data.edge_index for node classification, we operate on a copy\n",
        "lp_data = Data(x=link_pred_data.x, edge_index=link_pred_data.edge_index)\n",
        "\n",
        "# We need to ensure the graph is undirected and does not contain self-loops for train_test_split_edges\n",
        "from torch_geometric.utils import to_undirected, remove_self_loops\n",
        "lp_data.edge_index = to_undirected(lp_data.edge_index)\n",
        "lp_data.edge_index, _ = remove_self_loops(lp_data.edge_index)\n",
        "\n",
        "# Apply the split. This also generates negative edges for validation and test.\n",
        "lp_data.train_mask = lp_data.val_mask = lp_data.test_mask = lp_data.y = None # Not needed for link prediction\n",
        "transform = T.RandomLinkSplit(num_val=0.1, num_test=0.2, is_undirected=True, add_negative_train_samples=True)\n",
        "train_lp_data, val_lp_data, test_lp_data = transform(lp_data)\n",
        "\n",
        "print(\"--- Link Prediction Data Split ---\")\n",
        "print(\"Training Data:\", train_lp_data)\n",
        "print(\"Validation Data:\", val_lp_data)\n",
        "print(\"Test Data:\", test_lp_data)\n",
        "\n",
        "# train_lp_data.edge_label contains 1s for positive edges and 0s for negative edges\n",
        "# train_lp_data.edge_label_index contains the actual edges (positive and negative)\n",
        "print(f\"\\nNumber of training edges (pos+neg): {train_lp_data.edge_label_index.size(1)}\")\n",
        "print(f\"Number of positive training edges: {train_lp_data.edge_label.sum().item()}\")"
      ]
    },
    {
      "cell_type": "markdown",
      "id": "5e3fa80f",
      "metadata": {
        "id": "5e3fa80f"
      },
      "source": [
        "### 5.2. Defining a GNN Model for Link Prediction\n",
        "\n",
        "A common approach for link prediction is:\n",
        "1.  **Encoder:** Use a GNN (like GCN, GraphSAGE) to learn node embeddings based on the *message passing edges* (`train_lp_data.edge_index`).\n",
        "2.  **Decoder:** Use these node embeddings to predict the existence of an edge between any two nodes. A simple decoder is the dot product of the embeddings of the two nodes, followed by a sigmoid function.\n",
        "\n",
        "Score$(u, v) = \\sigma(z_u^T z_v)$\n",
        "\n",
        "Where $z_u$ and $z_v$ are the embeddings for nodes $u$ and $v$."
      ]
    },
    {
      "cell_type": "code",
      "execution_count": null,
      "id": "79ad8bee",
      "metadata": {
        "id": "79ad8bee",
        "scrolled": true
      },
      "outputs": [],
      "source": [
        "class LinkPredictionGCN(torch.nn.Module):\n",
        "    def __init__(self, in_channels, hidden_channels, out_channels, dropout_rate=0.5):\n",
        "        super(LinkPredictionGCN, self).__init__()\n",
        "        # Encoder (GCN layers)\n",
        "        self.conv1 = GCNConv(in_channels, hidden_channels)\n",
        "        self.conv2 = GCNConv(hidden_channels, out_channels) # out_channels is embedding dimension\n",
        "        self.dropout_rate = dropout_rate\n",
        "\n",
        "    def encode(self, x, edge_index):\n",
        "        x = self.conv1(x, edge_index).relu()\n",
        "        x = F.dropout(x, p=self.dropout_rate, training=self.training)\n",
        "        x = self.conv2(x, edge_index) # Final embeddings\n",
        "        return x\n",
        "\n",
        "    def decode(self, z, edge_label_index):\n",
        "        # z: node embeddings [num_nodes, embedding_dim]\n",
        "        # edge_label_index: edges to score [2, num_edges_to_score]\n",
        "        node_i_emb = z[edge_label_index[0]] # Embeddings for source nodes\n",
        "        node_j_emb = z[edge_label_index[1]] # Embeddings for target nodes\n",
        "        # Dot product decoder\n",
        "        return (node_i_emb * node_j_emb).sum(dim=-1) # Sum along embedding dimension\n",
        "\n",
        "\n",
        "    def forward(self, x, edge_index, edge_label_index):\n",
        "        z = self.encode(x, edge_index)\n",
        "        return self.decode(z, edge_label_index)"
      ]
    },
    {
      "cell_type": "markdown",
      "id": "430645b2",
      "metadata": {
        "id": "430645b2"
      },
      "source": [
        "### 5.3. Training the Link Prediction Model\n",
        "\n",
        "We'll use Binary Cross-Entropy with Logits Loss (`BCEWithLogitsLoss`) as we're predicting probabilities for edge existence (a binary classification task for each potential edge)."
      ]
    },
    {
      "cell_type": "code",
      "execution_count": null,
      "id": "4031bb8f",
      "metadata": {
        "id": "4031bb8f"
      },
      "outputs": [],
      "source": [
        "def train_link_predictor():\n",
        "    link_model.train()\n",
        "    lp_optimizer.zero_grad()\n",
        "\n",
        "    # Use message passing edges from train_lp_data for encoding\n",
        "    # These are the original edges used to learn node representations\n",
        "    z = link_model.encode(lp_data_x, train_lp_data.edge_index)\n",
        "\n",
        "    # Decode using the supervision edges (positive and negative samples)\n",
        "    out = link_model.decode(z, train_lp_data.edge_label_index)\n",
        "\n",
        "    loss = lp_criterion(out, train_lp_data.edge_label.float())\n",
        "    loss.backward()\n",
        "    lp_optimizer.step()\n",
        "    return loss.item()\n",
        "\n",
        "@torch.no_grad()\n",
        "def test_link_predictor(current_lp_data):\n",
        "    link_model.eval()\n",
        "    # Important: For evaluation, the GNN encoder should use the graph structure\n",
        "    # defined by train_lp_data.edge_index (the message passing graph)\n",
        "    # The edges we are predicting (current_lp_data.edge_label_index) should not be part of message passing.\n",
        "    z = link_model.encode(lp_data_x, train_lp_data.edge_index)\n",
        "    out = link_model.decode(z, current_lp_data.edge_label_index)\n",
        "    loss = lp_criterion(out, current_lp_data.edge_label.float())\n",
        "    # Calculate AUC (Area Under ROC Curve)\n",
        "    from sklearn.metrics import roc_auc_score\n",
        "    auc = roc_auc_score(current_lp_data.edge_label.cpu().numpy(), torch.sigmoid(out).cpu().numpy())\n",
        "    return auc, loss.item()"
      ]
    },
    {
      "cell_type": "code",
      "execution_count": null,
      "id": "81ef1cd1",
      "metadata": {
        "id": "81ef1cd1"
      },
      "outputs": [],
      "source": [
        "# Instantiate the link prediction model\n",
        "embedding_dim = 64 # Dimension of node embeddings\n",
        "link_model = LinkPredictionGCN(\n",
        "    in_channels=dataset.num_node_features,\n",
        "    hidden_channels=128,\n",
        "    out_channels=embedding_dim,\n",
        "    dropout_rate=0.3\n",
        ").to(device)\n",
        "\n",
        "print(\"Link Prediction Model:\")\n",
        "print(link_model)\n",
        "\n",
        "# Optimizer\n",
        "lp_optimizer = torch.optim.Adam(link_model.parameters(), lr=0.005)\n",
        "\n",
        "# Loss function\n",
        "lp_criterion = torch.nn.BCEWithLogitsLoss()\n",
        "\n",
        "# Move data to device\n",
        "train_lp_data = train_lp_data.to(device)\n",
        "val_lp_data = val_lp_data.to(device)\n",
        "test_lp_data = test_lp_data.to(device)\n",
        "lp_data_x = lp_data.x.to(device) # Node features are shared"
      ]
    },
    {
      "cell_type": "code",
      "execution_count": null,
      "id": "2090c223",
      "metadata": {
        "id": "2090c223",
        "scrolled": true
      },
      "outputs": [],
      "source": [
        "# Training loop for link prediction\n",
        "lp_epochs = 100\n",
        "lp_train_losses = []\n",
        "lp_val_aucs, lp_val_losses = [], []\n",
        "best_val_loss = float('inf')\n",
        "best_val_acc = 0\n",
        "\n",
        "print(\"--- Training Link Prediction Model ---\")\n",
        "for epoch in range(1, lp_epochs + 1):\n",
        "    train_loss = train_link_predictor()\n",
        "    lp_train_losses.append(train_loss)\n",
        "    # Validation\n",
        "    val_acc, val_loss = test_link_predictor(val_lp_data)\n",
        "    lp_val_aucs.append(val_acc); lp_val_losses.append(val_loss)\n",
        "\n",
        "    if epoch == 1 or val_loss <= best_val_loss:\n",
        "        best_val_loss = val_loss\n",
        "        best_val_acc = val_acc\n",
        "        torch.save(link_model.state_dict(), 'link_model.pt') # Save the best model\n",
        "\n",
        "    if epoch % 20 == 0 or epoch == 1:\n",
        "        print(f'Epoch: {epoch:03d}, Train Loss: {loss:.4f}, Val Loss: {val_loss:.4f}, Val Acc: {val_acc:.4f}')\n",
        "print(\"--- Link Prediction Training Complete ---\")"
      ]
    },
    {
      "cell_type": "code",
      "execution_count": null,
      "id": "bb306fda",
      "metadata": {
        "id": "bb306fda"
      },
      "outputs": [],
      "source": [
        "# Plotting training loss and validation AUC\n",
        "fig, ax1 = plt.subplots(figsize=(10, 3))\n",
        "\n",
        "color = 'tab:red'\n",
        "ax1.set_xlabel('Epoch')\n",
        "ax1.set_ylabel('Loss', color=color)\n",
        "ax1.plot(lp_train_losses, color=color, label='Training Loss')\n",
        "ax1.tick_params(axis='y', labelcolor=color)\n",
        "\n",
        "ax2 = ax1.twinx()\n",
        "color = 'tab:blue'\n",
        "ax2.set_ylabel('AUC', color=color)\n",
        "ax2.plot(lp_val_aucs, color=color, linestyle='--', label='Validation AUC')\n",
        "ax2.tick_params(axis='y', labelcolor=color)\n",
        "\n",
        "fig.tight_layout()\n",
        "plt.title('Link Prediction Training Progress')\n",
        "fig.legend(loc='upper right', bbox_to_anchor=(1,1), bbox_transform=ax1.transAxes)\n",
        "plt.show()"
      ]
    },
    {
      "cell_type": "markdown",
      "id": "6dec4fa4",
      "metadata": {
        "id": "6dec4fa4"
      },
      "source": [
        "### 5.4. Evaluating the Link Prediction Model\n",
        "\n",
        "The primary metric for link prediction is often AUC (Area Under the ROC Curve) or Average Precision (AP)."
      ]
    },
    {
      "cell_type": "code",
      "execution_count": null,
      "id": "5faa009b",
      "metadata": {
        "id": "5faa009b",
        "scrolled": true
      },
      "outputs": [],
      "source": [
        "# Re-Instantiate model\n",
        "link_model = LinkPredictionGCN(\n",
        "    in_channels=dataset.num_node_features,\n",
        "    hidden_channels=128,\n",
        "    out_channels=embedding_dim,\n",
        "    dropout_rate=0.3\n",
        ").to(device)\n",
        "\n",
        "link_model.load_state_dict(torch.load('link_model.pt', weights_only=True)) # Load the best model learnt\n",
        "\n",
        "final_test_auc, final_test_loss = test_link_predictor(test_lp_data)\n",
        "print(f'\\nFinal Test AUC for Link Prediction: {final_test_auc:.4f}')"
      ]
    },
    {
      "cell_type": "markdown",
      "id": "a9bedb06",
      "metadata": {
        "id": "a9bedb06"
      },
      "source": [
        "### 🔹 Coding Point 🔹\n",
        "- Generate t-SNE plot of node embeddings based on Node Classification task and Link Prediction task? What are your observations?"
      ]
    },
    {
      "cell_type": "code",
      "execution_count": null,
      "id": "2d097b8c",
      "metadata": {
        "id": "2d097b8c"
      },
      "outputs": [],
      "source": []
    },
    {
      "cell_type": "markdown",
      "id": "f3e0ffb0",
      "metadata": {
        "id": "f3e0ffb0"
      },
      "source": [
        "### 🔹 Coding Point 🔹\n",
        "- Conduct Link Prediction on `Citeseer` dataset\n",
        "- Refer to https://pytorch-geometric.readthedocs.io/en/latest/generated/torch_geometric.datasets.Planetoid.html#torch_geometric.datasets.Planetoid for downloading the dataset"
      ]
    },
    {
      "cell_type": "code",
      "execution_count": null,
      "id": "d892e68b",
      "metadata": {
        "id": "d892e68b"
      },
      "outputs": [],
      "source": []
    },
    {
      "cell_type": "markdown",
      "id": "2d5432a5",
      "metadata": {
        "id": "2d5432a5"
      },
      "source": [
        "## 6. Conclusion and Further Exploration\n",
        "\n",
        "Congratulations! You've learned how to:\n",
        "- Represent graph data using PyTorch Geometric.\n",
        "- Build, train, and evaluate GNN models for **node classification**.\n",
        "- Build, train, and evaluate GNN models for **link prediction**."
      ]
    },
    {
      "cell_type": "markdown",
      "id": "0f8364a7",
      "metadata": {
        "id": "0f8364a7"
      },
      "source": [
        "**Further Exploration:**\n",
        "- **Different GNN Layers:** Experiment with `GATConv` (Graph Attention Networks), `SAGEConv` (GraphSAGE), and others.\n",
        "- **Graph-level Tasks:** Try graph classification or regression (e.g., using `TUDataset` and pooling layers).\n",
        "- **Heterogeneous Graphs:** Work with graphs that have different types of nodes and edges (`torch_geometric.data.HeteroData`).\n",
        "- **Scalability:** Investigate techniques for training GNNs on very large graphs (e.g., neighbor sampling, graph partitioning).\n",
        "- **Dynamic Graphs:** Explore models for graphs that change over time.\n",
        "- **Advanced Link Prediction:** Look into knowledge graph embedding methods (e.g., TransE, ComplEx) or more sophisticated decoders.\n",
        "\n",
        "Thank you for participating in this tutorial! Feel free to ask any remaining questions."
      ]
    }
  ],
  "metadata": {
    "celltoolbar": "Slideshow",
    "colab": {
      "provenance": [],
      "collapsed_sections": [
        "2b266032",
        "6d830faa",
        "2e590306",
        "4bdd6cad",
        "76a1c5a0"
      ],
      "include_colab_link": true
    },
    "kernelspec": {
      "display_name": "Python 3 (ipykernel)",
      "language": "python",
      "name": "python3"
    },
    "language_info": {
      "codemirror_mode": {
        "name": "ipython",
        "version": 3
      },
      "file_extension": ".py",
      "mimetype": "text/x-python",
      "name": "python",
      "nbconvert_exporter": "python",
      "pygments_lexer": "ipython3",
      "version": "3.11.8"
    }
  },
  "nbformat": 4,
  "nbformat_minor": 5
}